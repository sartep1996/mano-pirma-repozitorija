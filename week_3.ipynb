{
 "cells": [
  {
   "cell_type": "code",
   "execution_count": 93,
   "metadata": {},
   "outputs": [
    {
     "name": "stdout",
     "output_type": "stream",
     "text": [
      "[17, 25, 48, 55, 62, 77, 77, 79, 81, 89]\n",
      "None\n"
     ]
    }
   ],
   "source": [
    "import random\n",
    "\n",
    "def ten_random_num ():\n",
    "    atsitiktiniai_skaiciai = [random.randint(1, 100) for _ in range(10)]\n",
    "    rikiuoti_skaicius = sorted(atsitiktiniai_skaiciai)\n",
    "    print(rikiuoti_skaicius)\n",
    "\n",
    "print(ten_random_num())\n",
    "\n"
   ]
  },
  {
   "cell_type": "code",
   "execution_count": 94,
   "metadata": {},
   "outputs": [
    {
     "name": "stdout",
     "output_type": "stream",
     "text": [
      "Pralaimejai\n"
     ]
    }
   ],
   "source": [
    "import random\n",
    "\n",
    "kauliukai = [random.randint(1, 6) for _ in range (3)]\n",
    "\n",
    "while True:\n",
    "    for skaicius in kauliukai:\n",
    "        if skaicius == 5:\n",
    "            print (\"Laimejai!\")\n",
    "            break\n",
    "    else: \n",
    "        print (\"Pralaimejai\")\n",
    "        break\n",
    "    break\n",
    "    \n",
    "    "
   ]
  },
  {
   "cell_type": "code",
   "execution_count": 95,
   "metadata": {},
   "outputs": [
    {
     "name": "stdout",
     "output_type": "stream",
     "text": [
      "      May 2023\n",
      "Mo Tu We Th Fr Sa Su\n",
      " 1  2  3  4  5  6  7\n",
      " 8  9 10 11 12 13 14\n",
      "15 16 17 18 19 20 21\n",
      "22 23 24 25 26 27 28\n",
      "29 30 31\n",
      "\n",
      "8\n"
     ]
    }
   ],
   "source": [
    "import calendar\n",
    "\n",
    "def savaitgalio_dienos_menesyje(metai, menuo):\n",
    "    print(calendar.month(metai, menuo))\n",
    "   \n",
    "\n",
    "    _, menesio_ilgis = calendar.monthrange(metai, menuo)\n",
    "\n",
    "    savaitgalio_dienos = 0\n",
    "    for diena in range(1, menesio_ilgis + 1):\n",
    "        savaites_diena = calendar.weekday(metai, menuo, diena)\n",
    "        if savaites_diena == 5 or savaites_diena == 6:\n",
    "            savaitgalio_dienos += 1\n",
    "\n",
    "    print(savaitgalio_dienos)\n",
    "\n",
    "savaitgalio_dienos_menesyje(2023, 5)\n"
   ]
  },
  {
   "cell_type": "code",
   "execution_count": 96,
   "metadata": {},
   "outputs": [
    {
     "name": "stdout",
     "output_type": "stream",
     "text": [
      "      May 2023\n",
      "Mo Tu We Th Fr Sa Su\n",
      " 1  2  3  4  5  6  7\n",
      " 8  9 10 11 12 13 14\n",
      "15 16 17 18 19 20 21\n",
      "22 23 24 25 26 27 28\n",
      "29 30 31\n",
      "\n",
      "8\n"
     ]
    }
   ],
   "source": [
    "import calendar\n",
    "\n",
    "def savaitgalio_dienos_menesyje(metai, menuo):\n",
    "    print(calendar.month(metai, menuo))\n",
    "\n",
    "    _, menesio_ilgis = calendar.monthrange(metai, menuo)\n",
    "\n",
    "    savaitgalio_dienos = 0\n",
    "    for diena in range(1, menesio_ilgis + 1):\n",
    "        savaites_diena = calendar.weekday(metai, menuo, diena)\n",
    "        if savaites_diena == 5 or savaites_diena == 6:\n",
    "            savaitgalio_dienos += 1\n",
    "\n",
    "    print(savaitgalio_dienos)\n",
    "\n",
    "savaitgalio_dienos_menesyje(2023, 5) "
   ]
  },
  {
   "cell_type": "code",
   "execution_count": 97,
   "metadata": {},
   "outputs": [],
   "source": [
    "import calendar\n",
    "\n",
    "def spausdinti_menesio_kalendoriu_suskaiciuojant_savaitgalius(metai, menesis):\n",
    "    print(calendar.month(metai, menesis))\n",
    "\n",
    "    _, menesio_ilgis = calendar.monthrange(metai, menesis) # gauna kokia yra pirma menesio diena, ir kiek yra dienu menesyje\n",
    "\n",
    "    savaitgalio_dienos = 0\n",
    "    for diena in range(1, menesio_ilgis + 1): #patikrina kiekviena diena menesyje\n",
    "        savaites_diena = calendar.weekday(metai, menesis, diena) # indeksuoja kiekviena savaites diena nuo 0 (pirmadienis) iki 6 (sekmadienis)\n",
    "        if savaites_diena == 5 or savaites_diena == 6: # jeigu indeksuota diena yra 5 (sestadienis) arba 6 (sekmadienis)\n",
    "            savaitgalio_dienos += 1 #pridedama papildoma savaitgalio diena\n",
    "\n",
    "    print(f\"Savaitgalio dienų skaičius šiame mėnesyje: {savaitgalio_dienos}\")\n"
   ]
  },
  {
   "cell_type": "code",
   "execution_count": 98,
   "metadata": {},
   "outputs": [
    {
     "name": "stdout",
     "output_type": "stream",
     "text": [
      "2023-04-28 09:00:56.519165\n"
     ]
    }
   ],
   "source": [
    "from datetime import datetime\n",
    "\n",
    "dabar = datetime.now()\n",
    "\n",
    "print(dabar)"
   ]
  },
  {
   "cell_type": "code",
   "execution_count": 99,
   "metadata": {},
   "outputs": [
    {
     "name": "stdout",
     "output_type": "stream",
     "text": [
      "00:56\n"
     ]
    }
   ],
   "source": [
    "from datetime import datetime\n",
    "\n",
    "sis_momentas = datetime.now()\n",
    "format = \"%M:%S\"\n",
    "\n",
    "tik_laikas = sis_momentas.strftime(format)\n",
    "print(tik_laikas)\n",
    "\n"
   ]
  },
  {
   "cell_type": "code",
   "execution_count": 100,
   "metadata": {},
   "outputs": [
    {
     "name": "stdout",
     "output_type": "stream",
     "text": [
      "9856\n"
     ]
    }
   ],
   "source": [
    "from datetime import datetime\n",
    "\n",
    "def kiek_liko_laiko_iki_gimtadienio(metai, menuo, diena):\n",
    "    gimimo_metai_stringu = f\"{metai}-{menuo}-{diena}\"\n",
    "    suformatuota_g_d = \"%Y-%m-%d\"\n",
    "\n",
    "    gimimo_metai = datetime.strptime(gimimo_metai_stringu, suformatuota_g_d)\n",
    "\n",
    "    menuo_ir_dienos = datetime(2023, 12, 12 )\n",
    "\n",
    "    liko_dienu = (menuo_ir_dienos - gimimo_metai).days\n",
    "\n",
    "    return liko_dienu\n",
    "\n",
    "print(kiek_liko_laiko_iki_gimtadienio(1996, 12, 17))\n",
    "\n",
    "\n"
   ]
  },
  {
   "cell_type": "code",
   "execution_count": 101,
   "metadata": {},
   "outputs": [
    {
     "name": "stdout",
     "output_type": "stream",
     "text": [
      "Liko 16 dienos (-ų) iki gimtadienio.\n"
     ]
    }
   ],
   "source": [
    "from datetime import datetime, timedelta\n",
    "\n",
    "def dienos_iki_gimtadienio(gimimo_data):\n",
    "    gimimo_data_format = datetime.strptime(gimimo_data, \"%Y-%m-%d\")\n",
    "    siandiena = datetime.now()\n",
    "    gimtadienio_data = gimimo_data_format.replace(year=siandiena.year)\n",
    "\n",
    "    if gimtadienio_data < siandiena:\n",
    "        gimtadienio_data = gimtadienio_data.replace(year=siandiena.year + 1)\n",
    "\n",
    "    skirtumas = gimtadienio_data - siandiena\n",
    "    return skirtumas.days\n",
    "\n",
    "gimimo_data = \"2000-05-15\"\n",
    "print(f\"Liko {dienos_iki_gimtadienio(gimimo_data)} dienos (-ų) iki gimtadienio.\")"
   ]
  },
  {
   "cell_type": "code",
   "execution_count": 102,
   "metadata": {},
   "outputs": [
    {
     "name": "stdout",
     "output_type": "stream",
     "text": [
      "2023-04-26 14:18:20\n"
     ]
    }
   ],
   "source": [
    "from datetime import datetime, timedelta\n",
    "\n",
    "def date_plus_48 (date_string):\n",
    "    format_string = \"%Y-%m-%d %H:%M:%S\"\n",
    "\n",
    "    date = datetime.strptime(date_string, format_string)\n",
    "\n",
    "    new_date = date + timedelta(hours=48)\n",
    "\n",
    "    return new_date\n",
    "\n",
    "date_string = \"2023-04-24 14:18:20\"\n",
    "print(date_plus_48(date_string))"
   ]
  },
  {
   "cell_type": "code",
   "execution_count": 103,
   "metadata": {},
   "outputs": [
    {
     "ename": "SyntaxError",
     "evalue": "leading zeros in decimal integer literals are not permitted; use an 0o prefix for octal integers (809077120.py, line 17)",
     "output_type": "error",
     "traceback": [
      "\u001b[0;36m  Cell \u001b[0;32mIn[103], line 17\u001b[0;36m\u001b[0m\n\u001b[0;31m    date1 = 2023-04-26\u001b[0m\n\u001b[0m                 ^\u001b[0m\n\u001b[0;31mSyntaxError\u001b[0m\u001b[0;31m:\u001b[0m leading zeros in decimal integer literals are not permitted; use an 0o prefix for octal integers\n"
     ]
    }
   ],
   "source": [
    "from datetime import datetime\n",
    "import time\n",
    "\n",
    "def time_stamp_differece (date1, date2):\n",
    "    date1 = datetime(2023, 4, 26)\n",
    "    date2 = datetime(2022, 7, 21)\n",
    "\n",
    "    timestamp1 = time.mktime(date1.timetuple())\n",
    "    timestamp2 = time.mktime(date2.timetuple())\n",
    "\n",
    "    difference= abs(timestamp1 - timestamp2)\n",
    "\n",
    "    return difference\n",
    "\n",
    "print (time_stamp_differece(date1, date2))\n",
    "\n",
    "date1 = 2023-04-26\n",
    "date2 = 2022-07-21\n"
   ]
  },
  {
   "cell_type": "code",
   "execution_count": null,
   "metadata": {},
   "outputs": [
    {
     "name": "stdout",
     "output_type": "stream",
     "text": [
      "24105600.0\n"
     ]
    }
   ],
   "source": [
    "from datetime import datetime\n",
    "import time\n",
    "\n",
    "def time_stamp_difference(date1, date2):\n",
    "    timestamp1 = time.mktime(datetime.strptime(date1, \"%Y-%m-%d\").timetuple())\n",
    "    timestamp2 = time.mktime(datetime.strptime(date2, \"%Y-%m-%d\").timetuple())\n",
    "\n",
    "    difference = abs(timestamp1 - timestamp2)\n",
    "\n",
    "    return difference\n",
    "\n",
    "date1 = \"2023-04-26\"\n",
    "date2 = \"2022-07-21\"\n",
    "\n",
    "print(time_stamp_difference(date1, date2))"
   ]
  },
  {
   "cell_type": "code",
   "execution_count": null,
   "metadata": {},
   "outputs": [
    {
     "name": "stdout",
     "output_type": "stream",
     "text": [
      "265\n"
     ]
    }
   ],
   "source": [
    "from datetime import datetime\n",
    "import time\n",
    "\n",
    "def time_stamp_difference(timestamp1, timestamp2):\n",
    "    date1 = datetime.fromtimestamp(timestamp1)\n",
    "    date2 = datetime.fromtimestamp(timestamp2)\n",
    "\n",
    "    difference  = abs(date2 -date1)\n",
    "\n",
    "    return difference.days\n",
    "\n",
    "timestamp1 = 1632562679\n",
    "timestamp2 = 1655507478\n",
    "\n",
    "print(time_stamp_difference(timestamp1, timestamp2))\n",
    "\n"
   ]
  },
  {
   "cell_type": "code",
   "execution_count": null,
   "metadata": {},
   "outputs": [
    {
     "name": "stdout",
     "output_type": "stream",
     "text": [
      "2023-04-24 12:11:22.293208\n"
     ]
    }
   ],
   "source": [
    "from datetime import datetime\n",
    "\n",
    "utc_now = datetime.utcnow()\n",
    "print(utc_now)"
   ]
  },
  {
   "cell_type": "code",
   "execution_count": null,
   "metadata": {},
   "outputs": [
    {
     "name": "stdout",
     "output_type": "stream",
     "text": [
      "2023-04-12 15:12:00+03:00\n"
     ]
    }
   ],
   "source": [
    "from zoneinfo import ZoneInfo\n",
    "from datetime import datetime\n",
    "\n",
    "laikas = datetime(2023, 4, 12, 15, 12, tzinfo = ZoneInfo(\"Europe/Vilnius\"))\n",
    "\n",
    "print(laikas)"
   ]
  },
  {
   "cell_type": "code",
   "execution_count": null,
   "metadata": {},
   "outputs": [
    {
     "name": "stdout",
     "output_type": "stream",
     "text": [
      "Asia/Atyrau\n",
      "Asia/Tashkent\n",
      "Pacific/Kiritimati\n",
      "America/Argentina/San_Luis\n",
      "America/Buenos_Aires\n",
      "Asia/Yekaterinburg\n",
      "Africa/Ouagadougou\n",
      "Asia/Pontianak\n",
      "Europe/Rome\n",
      "Australia/Eucla\n",
      "Portugal\n",
      "America/Resolute\n",
      "America/Anchorage\n",
      "Etc/GMT+0\n",
      "Europe/Tiraspol\n",
      "Asia/Omsk\n",
      "Indian/Cocos\n",
      "GMT-0\n",
      "America/Halifax\n",
      "Asia/Dili\n",
      "Asia/Bangkok\n",
      "MET\n",
      "Asia/Khandyga\n",
      "Europe/Skopje\n",
      "Europe/Helsinki\n",
      "Asia/Makassar\n",
      "America/Lima\n",
      "America/Marigot\n",
      "America/Creston\n",
      "Asia/Chungking\n",
      "Atlantic/Azores\n",
      "Pacific/Auckland\n",
      "America/Indianapolis\n",
      "Navajo\n",
      "Asia/Istanbul\n",
      "Etc/GMT-8\n",
      "Atlantic/Bermuda\n",
      "Africa/Asmera\n",
      "Europe/Guernsey\n",
      "Etc/UCT\n",
      "America/Shiprock\n",
      "Asia/Saigon\n",
      "Europe/Vatican\n",
      "Europe/Belgrade\n",
      "Etc/GMT+12\n",
      "Pacific/Noumea\n",
      "Pacific/Majuro\n",
      "America/Porto_Acre\n",
      "GMT0\n",
      "Pacific/Enderbury\n",
      "Europe/Paris\n",
      "Pacific/Chatham\n",
      "America/Coral_Harbour\n",
      "Europe/Isle_of_Man\n",
      "America/Cancun\n",
      "America/Goose_Bay\n",
      "US/Samoa\n",
      "Europe/Monaco\n",
      "Asia/Muscat\n",
      "America/Cayenne\n",
      "US/East-Indiana\n",
      "Europe/Vienna\n",
      "America/Catamarca\n",
      "America/St_Kitts\n",
      "America/Panama\n",
      "America/Jamaica\n",
      "America/Knox_IN\n",
      "Africa/Kigali\n",
      "Iran\n",
      "Africa/Asmara\n",
      "ROK\n",
      "Asia/Nicosia\n",
      "America/Maceio\n",
      "Asia/Kolkata\n",
      "Etc/Universal\n",
      "Europe/Warsaw\n",
      "PST8PDT\n",
      "Africa/Bamako\n",
      "America/Manaus\n",
      "America/Eirunepe\n",
      "US/Mountain\n",
      "Asia/Katmandu\n",
      "Pacific/Guadalcanal\n",
      "Europe/Kaliningrad\n",
      "Africa/Freetown\n",
      "America/Indiana/Indianapolis\n",
      "Israel\n",
      "Indian/Chagos\n",
      "America/Chicago\n",
      "America/Indiana/Knox\n",
      "America/Antigua\n",
      "America/Grenada\n",
      "Asia/Macao\n",
      "Asia/Sakhalin\n",
      "America/Argentina/ComodRivadavia\n",
      "Asia/Aqtau\n",
      "Africa/Dakar\n",
      "Europe/Jersey\n",
      "Europe/Kirov\n",
      "Europe/Prague\n",
      "America/Jujuy\n",
      "Asia/Hovd\n",
      "Canada/Saskatchewan\n",
      "Antarctica/Vostok\n",
      "America/Atikokan\n",
      "Etc/GMT+9\n",
      "Africa/Dar_es_Salaam\n",
      "Etc/GMT-3\n",
      "Etc/GMT-7\n",
      "Chile/Continental\n",
      "Europe/Madrid\n",
      "Europe/San_Marino\n",
      "Etc/Greenwich\n",
      "Europe/Dublin\n",
      "Etc/GMT+6\n",
      "America/Martinique\n",
      "Canada/Newfoundland\n",
      "America/Nipigon\n",
      "Brazil/Acre\n",
      "Australia/Currie\n",
      "Europe/Budapest\n",
      "Asia/Kuala_Lumpur\n",
      "Etc/GMT-9\n",
      "Africa/Bangui\n",
      "America/Fort_Nelson\n",
      "America/Sao_Paulo\n",
      "Asia/Damascus\n",
      "Etc/GMT+1\n",
      "Factory\n",
      "Brazil/East\n",
      "America/Fortaleza\n",
      "Indian/Reunion\n",
      "America/Bogota\n",
      "Europe/Zurich\n",
      "America/Godthab\n",
      "Asia/Famagusta\n",
      "Africa/Niamey\n",
      "Africa/Lubumbashi\n",
      "America/Dawson_Creek\n",
      "America/Tijuana\n",
      "Indian/Comoro\n",
      "America/Metlakatla\n",
      "Pacific/Galapagos\n",
      "Asia/Kuching\n",
      "Antarctica/DumontDUrville\n",
      "America/Regina\n",
      "America/North_Dakota/New_Salem\n",
      "Pacific/Rarotonga\n",
      "America/Indiana/Tell_City\n",
      "Africa/Lagos\n",
      "Jamaica\n",
      "Africa/Libreville\n",
      "America/Santa_Isabel\n",
      "Africa/Nouakchott\n",
      "Asia/Kamchatka\n",
      "Europe/Riga\n",
      "Africa/Brazzaville\n",
      "Zulu\n",
      "Kwajalein\n",
      "Africa/Blantyre\n",
      "GB\n",
      "Atlantic/Stanley\n",
      "America/Asuncion\n",
      "Africa/Gaborone\n",
      "Europe/Istanbul\n",
      "Pacific/Kosrae\n",
      "Australia/Queensland\n",
      "America/Campo_Grande\n",
      "Asia/Thimphu\n",
      "America/Port_of_Spain\n",
      "Australia/West\n",
      "Asia/Tel_Aviv\n",
      "HST\n",
      "Africa/Bujumbura\n",
      "EST5EDT\n",
      "Africa/Abidjan\n",
      "Brazil/West\n",
      "Pacific/Tahiti\n",
      "Pacific/Easter\n",
      "UTC\n",
      "Asia/Almaty\n",
      "America/Cambridge_Bay\n",
      "America/Cuiaba\n",
      "Asia/Ashgabat\n",
      "Africa/Luanda\n",
      "America/Pangnirtung\n",
      "America/Nome\n",
      "Etc/GMT-4\n",
      "America/Thule\n",
      "Antarctica/Palmer\n",
      "America/Mendoza\n",
      "Africa/Windhoek\n",
      "America/Swift_Current\n",
      "Africa/Ndjamena\n",
      "Asia/Jerusalem\n",
      "Canada/Pacific\n",
      "America/Rio_Branco\n",
      "Europe/Kyiv\n",
      "Japan\n",
      "Asia/Aqtobe\n",
      "Europe/Belfast\n",
      "Europe/Mariehamn\n",
      "Pacific/Efate\n",
      "Australia/ACT\n",
      "Asia/Singapore\n",
      "Pacific/Tongatapu\n",
      "America/Ensenada\n",
      "Europe/Uzhgorod\n",
      "Europe/Chisinau\n",
      "Europe/Stockholm\n",
      "CET\n",
      "Pacific/Wallis\n",
      "America/St_Lucia\n",
      "Africa/Cairo\n",
      "America/Punta_Arenas\n",
      "America/Port-au-Prince\n",
      "Asia/Anadyr\n",
      "Europe/Ulyanovsk\n",
      "Pacific/Samoa\n",
      "America/Dawson\n",
      "Europe/Zaporozhye\n",
      "Pacific/Port_Moresby\n",
      "America/Argentina/Rio_Gallegos\n",
      "Asia/Barnaul\n",
      "Atlantic/Reykjavik\n",
      "MST7MDT\n",
      "Asia/Qostanay\n",
      "Asia/Seoul\n",
      "America/Rosario\n",
      "Asia/Irkutsk\n",
      "Pacific/Kanton\n",
      "Asia/Ulaanbaatar\n",
      "Africa/Accra\n",
      "Asia/Riyadh\n",
      "Indian/Antananarivo\n",
      "America/Moncton\n",
      "America/Merida\n",
      "Europe/Busingen\n",
      "Asia/Choibalsan\n",
      "Hongkong\n",
      "Africa/Lusaka\n",
      "W-SU\n",
      "Africa/El_Aaiun\n",
      "Atlantic/Canary\n",
      "America/Virgin\n",
      "America/Phoenix\n",
      "America/Ciudad_Juarez\n",
      "Asia/Qatar\n",
      "Asia/Qyzylorda\n",
      "Africa/Porto-Novo\n",
      "Asia/Bishkek\n",
      "Etc/GMT0\n",
      "America/Argentina/San_Juan\n",
      "Pacific/Niue\n",
      "Europe/Samara\n",
      "America/Hermosillo\n",
      "Asia/Kuwait\n",
      "America/Denver\n",
      "Asia/Vientiane\n",
      "Pacific/Chuuk\n",
      "America/Thunder_Bay\n",
      "Canada/Eastern\n",
      "Asia/Taipei\n",
      "Canada/Mountain\n",
      "Atlantic/South_Georgia\n",
      "America/Guadeloupe\n",
      "Africa/Tripoli\n",
      "America/Guyana\n",
      "Asia/Karachi\n",
      "Africa/Sao_Tome\n",
      "Africa/Kampala\n",
      "Asia/Magadan\n",
      "Pacific/Honolulu\n",
      "Asia/Baghdad\n",
      "America/Blanc-Sablon\n",
      "America/Guayaquil\n",
      "Asia/Amman\n",
      "Etc/GMT-11\n",
      "America/Indiana/Vevay\n",
      "Asia/Kathmandu\n",
      "America/Nassau\n",
      "Etc/GMT-2\n",
      "Europe/Bratislava\n",
      "Europe/Volgograd\n",
      "Australia/Perth\n",
      "America/Tegucigalpa\n",
      "Pacific/Guam\n",
      "US/Arizona\n",
      "America/Menominee\n",
      "Egypt\n",
      "America/Argentina/Salta\n",
      "Asia/Pyongyang\n",
      "Europe/Lisbon\n",
      "Asia/Yangon\n",
      "America/Argentina/Cordoba\n",
      "Africa/Mogadishu\n",
      "Indian/Christmas\n",
      "America/Curacao\n",
      "Etc/GMT+4\n",
      "America/Atka\n",
      "America/Argentina/Tucuman\n",
      "Africa/Timbuktu\n",
      "Singapore\n",
      "America/Fort_Wayne\n",
      "America/Glace_Bay\n",
      "Europe/Brussels\n",
      "Asia/Dubai\n",
      "Brazil/DeNoronha\n",
      "America/Santo_Domingo\n",
      "Europe/Astrakhan\n",
      "Australia/Brisbane\n",
      "America/Montevideo\n",
      "Antarctica/McMurdo\n",
      "America/Miquelon\n",
      "Mexico/BajaNorte\n",
      "UCT\n",
      "Europe/Copenhagen\n",
      "Europe/Kiev\n",
      "Asia/Vladivostok\n",
      "Australia/Victoria\n",
      "Africa/Casablanca\n",
      "Atlantic/Jan_Mayen\n",
      "Africa/Johannesburg\n",
      "Asia/Kashgar\n",
      "Europe/Amsterdam\n",
      "NZ\n",
      "US/Aleutian\n",
      "Europe/Tallinn\n",
      "Asia/Ust-Nera\n",
      "US/Michigan\n",
      "ROC\n",
      "Australia/Sydney\n",
      "Asia/Gaza\n",
      "Africa/Maputo\n",
      "America/Detroit\n",
      "America/Adak\n",
      "America/Rankin_Inlet\n",
      "America/Caracas\n",
      "Asia/Manila\n",
      "Asia/Urumqi\n",
      "America/Nuuk\n",
      "America/Matamoros\n",
      "Antarctica/Troll\n",
      "America/Grand_Turk\n",
      "Asia/Tehran\n",
      "Europe/Malta\n",
      "Africa/Malabo\n",
      "Africa/Harare\n",
      "America/Bahia_Banderas\n",
      "Africa/Khartoum\n",
      "Pacific/Ponape\n",
      "Asia/Shanghai\n",
      "US/Central\n",
      "Africa/Tunis\n",
      "US/Pacific\n",
      "Pacific/Gambier\n",
      "Europe/Oslo\n",
      "America/Montserrat\n",
      "America/Indiana/Marengo\n",
      "Africa/Monrovia\n",
      "Indian/Kerguelen\n",
      "Africa/Addis_Ababa\n",
      "Europe/Gibraltar\n",
      "Africa/Maseru\n",
      "America/St_Johns\n",
      "America/Indiana/Vincennes\n",
      "EST\n",
      "Europe/Ljubljana\n",
      "WET\n",
      "America/Mazatlan\n",
      "Antarctica/Syowa\n",
      "America/Sitka\n",
      "GB-Eire\n",
      "Atlantic/Faroe\n",
      "Mexico/General\n",
      "Asia/Tokyo\n",
      "Asia/Srednekolymsk\n",
      "Etc/GMT-0\n",
      "Africa/Algiers\n",
      "Asia/Hebron\n",
      "Antarctica/Davis\n",
      "Pacific/Apia\n",
      "US/Eastern\n",
      "America/St_Thomas\n",
      "Antarctica/Macquarie\n",
      "Pacific/Tarawa\n",
      "Europe/Berlin\n",
      "Europe/Nicosia\n",
      "Pacific/Norfolk\n",
      "Indian/Mayotte\n",
      "Asia/Dhaka\n",
      "Europe/Sofia\n",
      "America/Montreal\n",
      "Australia/Canberra\n",
      "America/Juneau\n",
      "America/Cayman\n",
      "America/Scoresbysund\n",
      "Africa/Banjul\n",
      "EET\n",
      "Asia/Dacca\n",
      "Europe/Vaduz\n",
      "Australia/Lord_Howe\n",
      "Canada/Yukon\n",
      "America/El_Salvador\n",
      "Australia/Broken_Hill\n",
      "America/Kentucky/Louisville\n",
      "Etc/GMT-6\n",
      "Asia/Novokuznetsk\n",
      "Pacific/Yap\n",
      "Cuba\n",
      "Indian/Maldives\n",
      "America/St_Vincent\n",
      "America/Indiana/Petersburg\n",
      "America/Ojinaga\n",
      "Europe/Athens\n",
      "Australia/Lindeman\n",
      "US/Hawaii\n",
      "Europe/Minsk\n",
      "Asia/Rangoon\n",
      "Eire\n",
      "America/North_Dakota/Beulah\n",
      "Antarctica/Casey\n",
      "America/Argentina/La_Rioja\n",
      "Etc/GMT+3\n",
      "Asia/Chita\n",
      "Pacific/Truk\n",
      "GMT\n",
      "Asia/Ulan_Bator\n",
      "Libya\n",
      "America/La_Paz\n",
      "Chile/EasterIsland\n",
      "Australia/Hobart\n",
      "Etc/GMT-14\n",
      "Pacific/Wake\n",
      "Atlantic/Cape_Verde\n",
      "America/Recife\n",
      "America/Argentina/Jujuy\n",
      "Indian/Mauritius\n",
      "Australia/South\n",
      "Etc/UTC\n",
      "America/Whitehorse\n",
      "America/Kralendijk\n",
      "Asia/Beirut\n",
      "Asia/Macau\n",
      "Antarctica/Rothera\n",
      "America/Santiago\n",
      "Australia/Tasmania\n",
      "Universal\n",
      "Canada/Atlantic\n",
      "Australia/Darwin\n",
      "PRC\n",
      "Etc/GMT-12\n",
      "US/Indiana-Starke\n",
      "America/New_York\n",
      "America/Havana\n",
      "America/Aruba\n",
      "Pacific/Funafuti\n",
      "Africa/Bissau\n",
      "Arctic/Longyearbyen\n",
      "America/Louisville\n",
      "America/Inuvik\n",
      "America/Porto_Velho\n",
      "Australia/North\n",
      "America/Monterrey\n",
      "Etc/GMT+2\n",
      "Asia/Krasnoyarsk\n",
      "America/Lower_Princes\n",
      "America/Indiana/Winamac\n",
      "America/Toronto\n",
      "Pacific/Palau\n",
      "Australia/NSW\n",
      "America/Belize\n",
      "America/Boa_Vista\n",
      "America/Costa_Rica\n",
      "Etc/GMT+8\n",
      "Australia/Adelaide\n",
      "Europe/Andorra\n",
      "America/Tortola\n",
      "Europe/Vilnius\n",
      "America/Boise\n",
      "Australia/LHI\n",
      "Asia/Colombo\n",
      "America/Kentucky/Monticello\n",
      "Pacific/Pitcairn\n",
      "Etc/GMT-10\n",
      "Asia/Phnom_Penh\n",
      "US/Alaska\n",
      "Antarctica/Mawson\n",
      "Europe/Tirane\n",
      "Asia/Samarkand\n",
      "America/Noronha\n",
      "America/Rainy_River\n",
      "Etc/Zulu\n",
      "Asia/Calcutta\n",
      "Pacific/Fakaofo\n",
      "America/Managua\n",
      "Asia/Baku\n",
      "Africa/Ceuta\n",
      "Etc/GMT+5\n",
      "America/Paramaribo\n",
      "America/Anguilla\n",
      "America/Danmarkshavn\n",
      "Europe/Zagreb\n",
      "Europe/Podgorica\n",
      "America/Belem\n",
      "America/Barbados\n",
      "Etc/GMT+11\n",
      "GMT+0\n",
      "Etc/GMT-5\n",
      "Antarctica/South_Pole\n",
      "America/Vancouver\n",
      "Asia/Bahrain\n",
      "Asia/Jayapura\n",
      "America/St_Barthelemy\n",
      "Asia/Hong_Kong\n",
      "Pacific/Marquesas\n",
      "Europe/Bucharest\n",
      "Greenwich\n",
      "Poland\n",
      "America/Iqaluit\n",
      "Indian/Mahe\n",
      "Atlantic/St_Helena\n",
      "Pacific/Bougainville\n",
      "America/Argentina/Buenos_Aires\n",
      "Etc/GMT+7\n",
      "Africa/Nairobi\n",
      "Africa/Mbabane\n",
      "Asia/Kabul\n",
      "Asia/Ho_Chi_Minh\n",
      "Pacific/Johnston\n",
      "Africa/Djibouti\n",
      "Europe/Saratov\n",
      "Europe/London\n",
      "America/Edmonton\n",
      "America/Argentina/Ushuaia\n",
      "Asia/Brunei\n",
      "Asia/Tomsk\n",
      "Africa/Kinshasa\n",
      "Asia/Thimbu\n",
      "Atlantic/Madeira\n",
      "Asia/Dushanbe\n",
      "Etc/GMT-1\n",
      "America/Cordoba\n",
      "Pacific/Saipan\n",
      "Europe/Moscow\n",
      "Africa/Douala\n",
      "Asia/Aden\n",
      "America/Puerto_Rico\n",
      "America/Guatemala\n",
      "Iceland\n",
      "America/Chihuahua\n",
      "America/Winnipeg\n",
      "Asia/Tbilisi\n",
      "America/Santarem\n",
      "Canada/Central\n",
      "Asia/Ashkhabad\n",
      "America/Araguaina\n",
      "Asia/Harbin\n",
      "Africa/Juba\n",
      "NZ-CHAT\n",
      "Europe/Sarajevo\n",
      "Europe/Luxembourg\n",
      "Etc/GMT+10\n",
      "America/Mexico_City\n",
      "MST\n",
      "Pacific/Fiji\n",
      "Asia/Novosibirsk\n",
      "Australia/Melbourne\n",
      "Pacific/Pohnpei\n",
      "America/Los_Angeles\n",
      "Etc/GMT-13\n",
      "Turkey\n",
      "America/Yakutat\n",
      "Africa/Lome\n",
      "Asia/Yakutsk\n",
      "America/Argentina/Mendoza\n",
      "Asia/Jakarta\n",
      "Asia/Ujung_Pandang\n",
      "Pacific/Kwajalein\n",
      "Pacific/Pago_Pago\n",
      "Pacific/Midway\n",
      "CST6CDT\n",
      "America/Dominica\n",
      "America/Argentina/Catamarca\n",
      "Etc/GMT\n",
      "Asia/Chongqing\n",
      "America/Yellowknife\n",
      "Asia/Oral\n",
      "Atlantic/Faeroe\n",
      "Australia/Yancowinna\n",
      "Pacific/Nauru\n",
      "America/Bahia\n",
      "Africa/Conakry\n",
      "Asia/Yerevan\n",
      "Mexico/BajaSur\n",
      "America/North_Dakota/Center\n",
      "Europe/Simferopol\n"
     ]
    }
   ],
   "source": [
    "from zoneinfo import available_timezones\n",
    "\n",
    "for timezone in available_timezones():\n",
    "    print(timezone)\n"
   ]
  },
  {
   "cell_type": "code",
   "execution_count": null,
   "metadata": {},
   "outputs": [
    {
     "name": "stdout",
     "output_type": "stream",
     "text": [
      "Europe/Vilnius\n"
     ]
    }
   ],
   "source": [
    "from zoneinfo import ZoneInfo\n",
    "from datetime import datetime\n",
    "\n",
    "laikas = datetime(2023, 4, 12, 15, 12, tzinfo = ZoneInfo(\"Europe/Vilnius\"))\n",
    "\n",
    "print(laikas.tzinfo)"
   ]
  },
  {
   "cell_type": "code",
   "execution_count": null,
   "metadata": {},
   "outputs": [
    {
     "name": "stdout",
     "output_type": "stream",
     "text": [
      "2023-04-24 12:31:40.877058\n",
      "2023-04-24 15:31:40.877058+03:00\n"
     ]
    }
   ],
   "source": [
    "from datetime import datetime\n",
    "from zoneinfo import ZoneInfo\n",
    "\n",
    "utc_now = datetime.utcnow()\n",
    "print(utc_now)\n",
    "vilnius_timezone = utc_now.replace(tzinfo=ZoneInfo(\"UTC\")).astimezone(ZoneInfo(\"Europe/Vilnius\"))\n",
    "print(vilnius_timezone)"
   ]
  },
  {
   "cell_type": "code",
   "execution_count": null,
   "metadata": {},
   "outputs": [
    {
     "name": "stdout",
     "output_type": "stream",
     "text": [
      "2023-04-24 12:31:43.477573+00:00\n",
      "2023-04-24 15:31:43.477573+03:00\n"
     ]
    }
   ],
   "source": [
    "from datetime import datetime\n",
    "from zoneinfo import ZoneInfo\n",
    "\n",
    "utc_now = datetime.utcnow().replace(tzinfo=ZoneInfo(\"UTC\"))\n",
    "print(utc_now)\n",
    "vilnius_time = utc_now.astimezone(ZoneInfo(\"Europe/Vilnius\"))\n",
    "print(vilnius_time)\n",
    "\n"
   ]
  },
  {
   "cell_type": "code",
   "execution_count": null,
   "metadata": {},
   "outputs": [],
   "source": [
    "def spausdinti_menesio_kalendoriu_suskaiciuojant_savaitgalius(metai, menesis):\n",
    "    print(calendar.month(metai, menesis))\n",
    "\n",
    "    _,menesio_ilgis = calendar.monthrange(metai, menesis)\n",
    "    savaites_dienos = 0\n",
    "    for diena in range(1, menesio_ilgis +1):\n",
    "        savaites_diena = calendar.weekday(metai, menesis, diena)\n",
    "        if savaites_diena == 5 or savaites_diena == 6:\n",
    "            savaites_dienos += 1\n",
    "\n",
    "        print(savaites_dienos)\n",
    "    \n",
    "    \n",
    "\n"
   ]
  },
  {
   "cell_type": "code",
   "execution_count": null,
   "metadata": {},
   "outputs": [
    {
     "name": "stdout",
     "output_type": "stream",
     "text": [
      "Friday\n"
     ]
    }
   ],
   "source": [
    "from datetime import datetime\n",
    "\n",
    "def what_week_day (date):\n",
    "    format_string = \"%Y-%m-%d\"\n",
    "\n",
    "    date_object = datetime.strptime(date, format_string)\n",
    "\n",
    "    today = date_object.weekday()\n",
    "\n",
    "    if today == 0:\n",
    "        return \"Monday\"\n",
    "    elif today == 1:\n",
    "        return \"Tuesday\"\n",
    "    elif today == 2:\n",
    "        return \"Wednesday\"\n",
    "    elif today == 3:\n",
    "        return \"Thursday\"\n",
    "    elif today == 4:\n",
    "        return \"Friday\"\n",
    "    elif today == 5:\n",
    "        return \"Saturday\"\n",
    "    elif today == 6:\n",
    "        return \"Sunday\"\n",
    "    else: return \"Error\"\n",
    "\n",
    "\n",
    "date = \"2023-04-28\"\n",
    "print (what_week_day(date))\n",
    "\n",
    "\n",
    "\n",
    "\n",
    "\n"
   ]
  },
  {
   "cell_type": "code",
   "execution_count": null,
   "metadata": {},
   "outputs": [
    {
     "name": "stdout",
     "output_type": "stream",
     "text": [
      "SVEIKI VISI\n",
      "SIANDIEN MES MOKYSIMES DIRBTI SU FAILU SISTEMOMIS\n",
      "BUS LABAI SMAGU!\n"
     ]
    }
   ],
   "source": [
    "with open(\"pakeitimai.txt\", \"r\") as failas:\n",
    "    contents = failas.read()\n",
    "    swapped = contents.swapcase()\n",
    "    print(swapped)"
   ]
  },
  {
   "cell_type": "code",
   "execution_count": null,
   "metadata": {},
   "outputs": [
    {
     "name": "stdout",
     "output_type": "stream",
     "text": [
      "sveiki visi\n",
      "siandien mes mokysimes dirbti su failu sistemomis\n",
      "bus labai smagu!\n"
     ]
    }
   ],
   "source": [
    "with open(\"pakeitimai.txt\", \"r\") as failas:\n",
    "    contents = failas.read()\n",
    "    print(contents)"
   ]
  },
  {
   "cell_type": "code",
   "execution_count": null,
   "metadata": {},
   "outputs": [],
   "source": [
    "with open(\"skaiciai.txt\", \"w\") as failas:\n",
    "    for x in range(1, 101):\n",
    "        failas.write(str(x) + \"\\n\")"
   ]
  },
  {
   "cell_type": "code",
   "execution_count": null,
   "metadata": {},
   "outputs": [
    {
     "name": "stdout",
     "output_type": "stream",
     "text": [
      "ti su failu sistemomis\n",
      "bus labai smagu!\n"
     ]
    }
   ],
   "source": [
    "with open(\"pakeitimai.txt\", \"r\") as failas:\n",
    "    failas.seek(0,2)\n",
    "    failo_ilgis = failas.tell()\n",
    "    vidurys = failo_ilgis // 2\n",
    "\n",
    "    failas.seek(vidurys)\n",
    "    likusi_dalis = failas.read()\n",
    "    print(likusi_dalis)"
   ]
  },
  {
   "cell_type": "code",
   "execution_count": null,
   "metadata": {},
   "outputs": [],
   "source": [
    "with open(\"eilutes.txt\", \"a\") as failas:\n",
    "    failas.write(\"\\nPetras Anskaitis\\n\")\n",
    "    "
   ]
  },
  {
   "cell_type": "code",
   "execution_count": null,
   "metadata": {},
   "outputs": [
    {
     "name": "stdout",
     "output_type": "stream",
     "text": [
      "Saulėlydis žėri žemę švelniai.\n",
      "Vakare vėjas šnypščia medžius.\n",
      "Vėjas nerimsta, šnypščia ir švilpia.Petras Anskaitis\n",
      "Petras Anskaitis\n",
      "Petras Anskaitis\n",
      "Petras Anskaitis\n",
      "Petras Anskaitis\n",
      "\n",
      "Petras Anskaitis\n",
      "\n"
     ]
    }
   ],
   "source": [
    "with open (\"eilutes.txt\", \"r\") as failas:\n",
    "    eiluciu_tekstas = failas.read()\n",
    "    print(eiluciu_tekstas)"
   ]
  },
  {
   "cell_type": "code",
   "execution_count": null,
   "metadata": {},
   "outputs": [],
   "source": [
    "with open (\"eilutes.txt\") as failas:\n",
    "    for eilute in failas:\n",
    "        if \"vejas\" in eilute:\n",
    "            print (eilute)\n",
    "            "
   ]
  },
  {
   "cell_type": "code",
   "execution_count": null,
   "metadata": {},
   "outputs": [
    {
     "name": "stdout",
     "output_type": "stream",
     "text": [
      "0\n"
     ]
    }
   ],
   "source": [
    "with open (\"test.txt\", \"r\") as file:\n",
    "    position = file.tell()\n",
    "    print (position)"
   ]
  },
  {
   "cell_type": "code",
   "execution_count": null,
   "metadata": {},
   "outputs": [
    {
     "name": "stdout",
     "output_type": "stream",
     "text": [
      "\n"
     ]
    }
   ],
   "source": [
    "with open (\"test.txt\", \"r\") as file:\n",
    "    file.seek(10)\n",
    "    content = file.read()\n",
    "    print(content)"
   ]
  },
  {
   "cell_type": "code",
   "execution_count": null,
   "metadata": {},
   "outputs": [
    {
     "name": "stdout",
     "output_type": "stream",
     "text": [
      "0\n"
     ]
    }
   ],
   "source": [
    "with open (\"test.txt\", \"r\") as file:\n",
    "    position = file.tell()\n",
    "    print (position)"
   ]
  },
  {
   "cell_type": "code",
   "execution_count": null,
   "metadata": {},
   "outputs": [],
   "source": [
    "import os\n",
    "\n",
    "katalogo_kelias = 'Mano_katalogas'\n",
    "if not os.path.exists(katalogo_kelias):\n",
    "    os.makedirs(katalogo_kelias)"
   ]
  },
  {
   "cell_type": "code",
   "execution_count": null,
   "metadata": {},
   "outputs": [
    {
     "name": "stdout",
     "output_type": "stream",
     "text": [
      "Failas 'Mano_katalogas' egzistuoja.\n"
     ]
    }
   ],
   "source": [
    "import os\n",
    "\n",
    "failo_kelias = \"Mano_katalogas\"\n",
    "if os.path.exists(failo_kelias):\n",
    "    print(f\"Failas '{failo_kelias}' egzistuoja.\")\n",
    "else:\n",
    "    print(f\"Failas '{failo_kelias}' neegzistuoja.\")"
   ]
  },
  {
   "cell_type": "code",
   "execution_count": null,
   "metadata": {},
   "outputs": [],
   "source": [
    "import os\n",
    "\n",
    "failo_kelias = \"tekstas.txt\"\n",
    "if os.path.exists(failo_kelias):\n",
    "    os.remove(failo_kelias)\n",
    "else:\n",
    "    print (f\"Failas '{failo_kelias}' neegzistuoja.\")\n",
    "    "
   ]
  },
  {
   "cell_type": "code",
   "execution_count": null,
   "metadata": {},
   "outputs": [
    {
     "name": "stdout",
     "output_type": "stream",
     "text": [
      "<map object at 0x106899450>\n"
     ]
    }
   ],
   "source": [
    "list = [1, 3, 34, 22, 56, 4, 9, 2, 11]\n",
    "\n",
    "double_num = filter(lambda x : x > 10, list)\n",
    "numbers = map(lambda x: x*2, double_num)\n",
    "\n",
    "print(numbers)\n"
   ]
  },
  {
   "cell_type": "code",
   "execution_count": null,
   "metadata": {},
   "outputs": [
    {
     "name": "stdout",
     "output_type": "stream",
     "text": [
      "120\n"
     ]
    }
   ],
   "source": [
    "from functools import reduce\n",
    "import operator\n",
    "\n",
    "skaiciai = [1, 2, 3, 4, 5]\n",
    "\n",
    "suma = reduce(lambda x, y: x*y, skaiciai)\n",
    "\n",
    "print(suma)"
   ]
  },
  {
   "cell_type": "code",
   "execution_count": null,
   "metadata": {},
   "outputs": [
    {
     "name": "stdout",
     "output_type": "stream",
     "text": [
      "15\n",
      "5\n",
      "1\n",
      "3\n",
      "3\n"
     ]
    }
   ],
   "source": [
    "import statistics\n",
    "\n",
    "skaiciai = [1, 2, 3, 4, 5]\n",
    "\n",
    "print(sum(skaiciai))\n",
    "print(max(skaiciai))\n",
    "print(min(skaiciai))\n",
    "print(statistics.mean(skaiciai))\n",
    "print(statistics.median(skaiciai))"
   ]
  },
  {
   "cell_type": "code",
   "execution_count": null,
   "metadata": {},
   "outputs": [
    {
     "name": "stdout",
     "output_type": "stream",
     "text": [
      "[3, 6, 9, 1, 4, 7, 2, 5, 8]\n"
     ]
    }
   ],
   "source": [
    "skaiciai = [1, 2, 3, 4, 5, 6, 7, 8, 9]\n",
    "\n",
    "istriju = sorted(skaiciai, key=lambda x: x % 3)\n",
    "\n",
    "print(istriju)\n"
   ]
  },
  {
   "cell_type": "code",
   "execution_count": null,
   "metadata": {},
   "outputs": [
    {
     "ename": "NameError",
     "evalue": "name 'reduce' is not defined",
     "output_type": "error",
     "traceback": [
      "\u001b[0;31m---------------------------------------------------------------------------\u001b[0m",
      "\u001b[0;31mNameError\u001b[0m                                 Traceback (most recent call last)",
      "Cell \u001b[0;32mIn[2], line 4\u001b[0m\n\u001b[1;32m      1\u001b[0m skaiciai \u001b[39m=\u001b[39m [\u001b[39m1\u001b[39m, \u001b[39m2\u001b[39m, \u001b[39m3\u001b[39m, \u001b[39m4\u001b[39m, \u001b[39m5\u001b[39m, \u001b[39m6\u001b[39m, \u001b[39m7\u001b[39m, \u001b[39m8\u001b[39m, \u001b[39m9\u001b[39m]\n\u001b[1;32m      3\u001b[0m lyginiai_skaiciai \u001b[39m=\u001b[39m \u001b[39mlist\u001b[39m(\u001b[39mfilter\u001b[39m(\u001b[39mlambda\u001b[39;00m x: x \u001b[39m%\u001b[39m \u001b[39m2\u001b[39m \u001b[39m==\u001b[39m \u001b[39m0\u001b[39m, skaiciai))\n\u001b[0;32m----> 4\u001b[0m ave_lyginiai_skaiciai \u001b[39m=\u001b[39m reduce(\u001b[39mlambda\u001b[39;00m x, y : (x\u001b[39m*\u001b[39my)\u001b[39m/\u001b[39m \u001b[39mlen\u001b[39m(lyginiai_skaiciai), lyginiai_skaiciai)\n\u001b[1;32m      6\u001b[0m \u001b[39mprint\u001b[39m(ave_lyginiai_skaiciai)\n",
      "\u001b[0;31mNameError\u001b[0m: name 'reduce' is not defined"
     ]
    }
   ],
   "source": [
    "skaiciai = [1, 2, 3, 4, 5, 6, 7, 8, 9]\n",
    "\n",
    "lyginiai_skaiciai = list(filter(lambda x: x % 2 == 0, skaiciai))\n",
    "ave_lyginiai_skaiciai = reduce(lambda x, y : (x*y)/ len(lyginiai_skaiciai), lyginiai_skaiciai)\n",
    "\n",
    "print(ave_lyginiai_skaiciai)\n"
   ]
  },
  {
   "cell_type": "code",
   "execution_count": null,
   "metadata": {},
   "outputs": [
    {
     "name": "stdout",
     "output_type": "stream",
     "text": [
      "1\n",
      "2\n",
      "3\n",
      "4\n",
      "5\n",
      "Baigta iteracija\n"
     ]
    }
   ],
   "source": [
    "# Sukuriame sąrašą\n",
    "my_list = [1, 2, 3, 4, 5]\n",
    "\n",
    "# Sukuriame iteratoriaus objektą\n",
    "my_iterator = iter(my_list)\n",
    "\n",
    "# Iteruojame per iteratoriaus elementus su next() metodu\n",
    "try:\n",
    "    print(next(my_iterator)) # 1\n",
    "    print(next(my_iterator)) # 2\n",
    "    print(next(my_iterator)) # 3\n",
    "    print(next(my_iterator)) # 4\n",
    "    print(next(my_iterator)) # 5\n",
    "    print(next(my_iterator)) # sukels StopIteration išimtį\n",
    "except StopIteration:\n",
    "    print(\"Baigta iteracija\")"
   ]
  },
  {
   "cell_type": "code",
   "execution_count": null,
   "metadata": {},
   "outputs": [
    {
     "name": "stdout",
     "output_type": "stream",
     "text": [
      "2\n",
      "4\n",
      "6\n",
      "8\n",
      "10\n",
      "Stai ir jusu skaiciai\n"
     ]
    }
   ],
   "source": [
    "sarasas = [1, 2, 3, 4, 5, 6, 7, 8, 9, 10]\n",
    "\n",
    "iteruotas_sarasas = iter(sarasas)\n",
    "\n",
    "while True:\n",
    "    try:\n",
    "        num = next(iteruotas_sarasas)\n",
    "        if num % 2 == 0:\n",
    "            print(num)\n",
    "    except StopIteration:\n",
    "        print(\"Stai ir jusu skaiciai\")\n",
    "        break"
   ]
  },
  {
   "cell_type": "code",
   "execution_count": null,
   "metadata": {},
   "outputs": [
    {
     "name": "stdout",
     "output_type": "stream",
     "text": [
      "E\n",
      "F\n"
     ]
    }
   ],
   "source": [
    "zodynas = {\"A\":1, \"B\":2, \"C\":3, \"D\":4, \"E\":5, \"F\":6 }\n",
    "\n",
    "iter_zodynas = iter(zodynas.items())\n",
    "\n",
    "while True:\n",
    "    try:\n",
    "        key, value = next(iter_zodynas)\n",
    "        if value > 4:\n",
    "            print(key)\n",
    "    except StopIteration:\n",
    "        break"
   ]
  },
  {
   "cell_type": "code",
   "execution_count": null,
   "metadata": {},
   "outputs": [
    {
     "name": "stdout",
     "output_type": "stream",
     "text": [
      "8\n",
      "8\n",
      "8\n"
     ]
    }
   ],
   "source": [
    "tekstas = \"Uzduotis pagaliau padaryta\"\n",
    "\n",
    "zodziai = (len(zodis) for zodis in tekstas.split())\n",
    "\n",
    "for ilgis in zodziai:\n",
    "    print(ilgis)"
   ]
  },
  {
   "cell_type": "code",
   "execution_count": null,
   "metadata": {},
   "outputs": [
    {
     "name": "stdout",
     "output_type": "stream",
     "text": [
      "5\n",
      "6\n",
      "6\n"
     ]
    }
   ],
   "source": [
    "input_list = ['apple', 'banana', 'cherry']\n",
    "\n",
    "list = (len(word) for word in input_list)\n",
    "\n",
    "for length in list:\n",
    "    print(length)"
   ]
  },
  {
   "cell_type": "code",
   "execution_count": null,
   "metadata": {},
   "outputs": [
    {
     "name": "stdout",
     "output_type": "stream",
     "text": [
      "2\n",
      "3\n",
      "5\n",
      "7\n",
      "11\n",
      "13\n",
      "17\n",
      "19\n",
      "23\n",
      "29\n"
     ]
    }
   ],
   "source": [
    "    \n",
    "def ar_pirminis(n):\n",
    "    if n < 2:\n",
    "        return False\n",
    "    for number in range(2,n):\n",
    "        if n % number == 0:\n",
    "            return False\n",
    "    return True\n",
    "\n",
    "def pirminiai_skaiciai_iki_n (skaicius):\n",
    "    for n in range(2, skaicius):\n",
    "        if ar_pirminis(n):\n",
    "            yield n\n",
    "\n",
    "pirminiai_generatorius = pirminiai_skaiciai_iki_n()\n",
    "\n",
    "for skaicius in pirminiai_generatorius:\n",
    "    print (skaicius)\n"
   ]
  },
  {
   "cell_type": "code",
   "execution_count": null,
   "metadata": {},
   "outputs": [
    {
     "name": "stdout",
     "output_type": "stream",
     "text": [
      "23\n"
     ]
    }
   ],
   "source": [
    "\n",
    "numbers = (1, 2, 3, 4, 5, 6, 7, 8, 9)\n",
    "def solution(numbers):\n",
    "    num_list = []\n",
    "    for num in numbers:\n",
    "        if num <= 0:\n",
    "            num == 0\n",
    "        elif num % 3 == 0 or num % 5 == 0:\n",
    "            num_list.append(num)\n",
    "    return num_list\n",
    "\n",
    "filtered_numbers = solution(numbers)\n",
    "sum_filtered_numbers = sum(solution(filtered_numbers))  \n",
    "\n",
    "print(sum_filtered_numbers)\n"
   ]
  },
  {
   "cell_type": "code",
   "execution_count": null,
   "metadata": {},
   "outputs": [
    {
     "name": "stdout",
     "output_type": "stream",
     "text": [
      "0\n",
      "53\n"
     ]
    }
   ],
   "source": [
    "numbers = [3, 5, 10, 15, 20, -23]\n",
    "num_list = []\n",
    "for num in numbers:\n",
    "    if num <= 0:\n",
    "        print(0)\n",
    "        break\n",
    "    if num % 3 == 0 or num % 5 == 0:\n",
    "        num_list.append(num)\n",
    "sum_num = sum(num_list)\n",
    "print(sum_num)"
   ]
  },
  {
   "cell_type": "code",
   "execution_count": null,
   "metadata": {},
   "outputs": [
    {
     "name": "stdout",
     "output_type": "stream",
     "text": [
      "Petras Anskaitis\n",
      "True\n"
     ]
    }
   ],
   "source": [
    "class Studentas:\n",
    "    def __init__(self, vardas, pavarde, amzius):\n",
    "        self.vardas = vardas\n",
    "        self.pavarde = pavarde\n",
    "        self.amzius = amzius\n",
    "\n",
    "    @property\n",
    "    def pilnas_vardas(self):\n",
    "        return f\"{self.vardas} {self.pavarde}\"\n",
    "    \n",
    "    @staticmethod\n",
    "    def ar_pilnametis( age):\n",
    "        return age >= 18\n",
    "        \n",
    "\n",
    "    @classmethod\n",
    "    def sukurti_studenta(cls, vardas: str, pavarde: str, amzius: int):\n",
    "        cls.vardas = vardas\n",
    "        cls.pavarde = pavarde\n",
    "        cls.amzius = amzius\n",
    "        return cls(vardas, pavarde, amzius)\n",
    "\n",
    "\n",
    "\n",
    "studentas1 = Studentas.sukurti_studenta(\"Petras\", \"Anskaitis\", 26)\n",
    "\n",
    "print(studentas1.pilnas_vardas)\n",
    "print(studentas1.ar_pilnametis(studentas1.amzius))"
   ]
  },
  {
   "cell_type": "code",
   "execution_count": 105,
   "metadata": {},
   "outputs": [],
   "source": [
    "\n",
    "def paversti_didziosiomis(funkcija):\n",
    "    def wrapper(*args, **kwargs):\n",
    "        new_args = [arg.upper() for arg in args]\n",
    "        new_kwargs = {key: val.upper() for key, val in kwargs.items()}\n",
    "        return funkcija (*new_args, **new_kwargs)\n",
    "    return wrapper"
   ]
  },
  {
   "cell_type": "code",
   "execution_count": 107,
   "metadata": {},
   "outputs": [
    {
     "name": "stdout",
     "output_type": "stream",
     "text": [
      "PETRAS ANSKAITIS\n"
     ]
    }
   ],
   "source": [
    "@paversti_didziosiomis\n",
    "def enter_name (name, last_name):\n",
    "    full_name = name + last_name\n",
    "    return full_name\n",
    "\n",
    "vardas = (enter_name(\"petras \", \"anskaitis\"))\n",
    "print(vardas)\n"
   ]
  },
  {
   "cell_type": "code",
   "execution_count": 111,
   "metadata": {},
   "outputs": [
    {
     "name": "stdout",
     "output_type": "stream",
     "text": [
      "[1, 2, 3]\n"
     ]
    }
   ],
   "source": [
    "\n",
    "def descending_order(num):\n",
    "    str_num = str(num)\n",
    "    output_numbers = []\n",
    "    for number in str_num:\n",
    "        output_numbers.append(int(number))\n",
    "    output_numbers\n",
    "\n",
    "print(descending_order(123))"
   ]
  },
  {
   "cell_type": "code",
   "execution_count": 109,
   "metadata": {},
   "outputs": [
    {
     "name": "stdout",
     "output_type": "stream",
     "text": [
      "[1, 2, 3, 4, 5, 6]\n"
     ]
    }
   ],
   "source": [
    "a = 123456\n",
    "b = str(a)\n",
    "c = []\n",
    "\n",
    "for digit in b:\n",
    "    c.append (int(digit))\n",
    "\n",
    "print (c)"
   ]
  }
 ],
 "metadata": {
  "kernelspec": {
   "display_name": "Python 3",
   "language": "python",
   "name": "python3"
  },
  "language_info": {
   "codemirror_mode": {
    "name": "ipython",
    "version": 3
   },
   "file_extension": ".py",
   "mimetype": "text/x-python",
   "name": "python",
   "nbconvert_exporter": "python",
   "pygments_lexer": "ipython3",
   "version": "3.11.3"
  },
  "orig_nbformat": 4
 },
 "nbformat": 4,
 "nbformat_minor": 2
}
