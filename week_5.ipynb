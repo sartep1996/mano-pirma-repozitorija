{
 "cells": [
  {
   "cell_type": "code",
   "execution_count": 15,
   "metadata": {},
   "outputs": [],
   "source": [
    "import sqlite3\n",
    "\n",
    "conn = sqlite3.connect('masinos.db')\n",
    "c = conn.cursor()"
   ]
  },
  {
   "cell_type": "code",
   "execution_count": 20,
   "metadata": {},
   "outputs": [],
   "source": [
    "query = \"\"\"\n",
    "CREATE TABLE IF NOT EXISTS masina(\n",
    "    id INTEGER PRIMARY KEY AUTOINCREMENT,\n",
    "    marke VARCHAR(50),\n",
    "    modelis VARCHAR(50),\n",
    "    spalva VARCHAR (50),\n",
    "    pagaminimo_metai VARCHAR (50),\n",
    "    kaina INTEGER\n",
    ");\n",
    "\"\"\""
   ]
  },
  {
   "cell_type": "code",
   "execution_count": 21,
   "metadata": {},
   "outputs": [],
   "source": [
    "with conn:\n",
    "    c.execute(query)"
   ]
  },
  {
   "cell_type": "code",
   "execution_count": 22,
   "metadata": {},
   "outputs": [],
   "source": [
    "insert_masina_query = ''' INSERT INTO masina\n",
    "(marke, modelis, spalva, pagaminimo_metai, kaina)\n",
    "VALUES ('Ford', 'Model T', 'juoda', 1910, 25000)\n",
    "'''"
   ]
  },
  {
   "cell_type": "code",
   "execution_count": 5,
   "metadata": {},
   "outputs": [],
   "source": [
    "insert_masina_query = ''' INSERT INTO masina\n",
    "(marke, modelis, spalva, pagaminimo_metai, kaina)\n",
    "VALUES ('Studbaker', 'Dictator', 'zalia', 1927, 40000)\n",
    "'''"
   ]
  },
  {
   "cell_type": "code",
   "execution_count": 4,
   "metadata": {},
   "outputs": [],
   "source": [
    "insert_masina_query = ''' INSERT INTO masina\n",
    "(marke, modelis, spalva, pagaminimo_metai, kaina)\n",
    "VALUES ('Chevrolet', 'Series CA', 'melyna', 1933, 50000)\n",
    "'''"
   ]
  },
  {
   "cell_type": "code",
   "execution_count": 27,
   "metadata": {},
   "outputs": [],
   "source": [
    "with conn:\n",
    "    c.execute(insert_masina_query)"
   ]
  },
  {
   "cell_type": "code",
   "execution_count": 2,
   "metadata": {},
   "outputs": [
    {
     "name": "stdout",
     "output_type": "stream",
     "text": [
      "===[Masinu Katalogas]===\n",
      "    1 - Paieska pagal MARKE\n",
      "    2 - Paieska pagal MODELI\n",
      "    3 - Paieska pagal SPALVA\n",
      "    4 - Paieska pagal METUS\n",
      "    5 - Paieska pagal KAINA\n",
      "    \n"
     ]
    },
    {
     "ename": "KeyboardInterrupt",
     "evalue": "Interrupted by user",
     "output_type": "error",
     "traceback": [
      "\u001b[0;31m---------------------------------------------------------------------------\u001b[0m",
      "\u001b[0;31mKeyboardInterrupt\u001b[0m                         Traceback (most recent call last)",
      "Cell \u001b[0;32mIn[2], line 13\u001b[0m\n\u001b[1;32m      5\u001b[0m \u001b[39mwhile\u001b[39;00m \u001b[39mTrue\u001b[39;00m:\n\u001b[1;32m      6\u001b[0m     \u001b[39mprint\u001b[39m(\u001b[39m\"\"\"\u001b[39m\u001b[39m===[Masinu Katalogas]===\u001b[39m\n\u001b[1;32m      7\u001b[0m \u001b[39m    1 - Paieska pagal MARKE\u001b[39m\n\u001b[1;32m      8\u001b[0m \u001b[39m    2 - Paieska pagal MODELI\u001b[39m\n\u001b[0;32m   (...)\u001b[0m\n\u001b[1;32m     11\u001b[0m \u001b[39m    5 - Paieska pagal KAINA\u001b[39m\n\u001b[1;32m     12\u001b[0m \u001b[39m    \u001b[39m\u001b[39m\"\"\"\u001b[39m)\n\u001b[0;32m---> 13\u001b[0m     choice \u001b[39m=\u001b[39m \u001b[39minput\u001b[39;49m(\u001b[39m\"\u001b[39;49m\u001b[39mPasirinkite: \u001b[39;49m\u001b[39m\"\u001b[39;49m)\n\u001b[1;32m     14\u001b[0m     \u001b[39mif\u001b[39;00m choice \u001b[39m==\u001b[39m \u001b[39m\"\u001b[39m\u001b[39m1\u001b[39m\u001b[39m\"\u001b[39m:\n\u001b[1;32m     15\u001b[0m         marke \u001b[39m=\u001b[39m \u001b[39minput\u001b[39m(\u001b[39m\"\u001b[39m\u001b[39mMarke: \u001b[39m\u001b[39m\"\u001b[39m)\n",
      "File \u001b[0;32m~/Desktop/Programavimas Python/CodeAcademy/pythonintro/mano-pirma-repozitorija/venv/lib/python3.11/site-packages/ipykernel/kernelbase.py:1191\u001b[0m, in \u001b[0;36mKernel.raw_input\u001b[0;34m(self, prompt)\u001b[0m\n\u001b[1;32m   1189\u001b[0m     msg \u001b[39m=\u001b[39m \u001b[39m\"\u001b[39m\u001b[39mraw_input was called, but this frontend does not support input requests.\u001b[39m\u001b[39m\"\u001b[39m\n\u001b[1;32m   1190\u001b[0m     \u001b[39mraise\u001b[39;00m StdinNotImplementedError(msg)\n\u001b[0;32m-> 1191\u001b[0m \u001b[39mreturn\u001b[39;00m \u001b[39mself\u001b[39;49m\u001b[39m.\u001b[39;49m_input_request(\n\u001b[1;32m   1192\u001b[0m     \u001b[39mstr\u001b[39;49m(prompt),\n\u001b[1;32m   1193\u001b[0m     \u001b[39mself\u001b[39;49m\u001b[39m.\u001b[39;49m_parent_ident[\u001b[39m\"\u001b[39;49m\u001b[39mshell\u001b[39;49m\u001b[39m\"\u001b[39;49m],\n\u001b[1;32m   1194\u001b[0m     \u001b[39mself\u001b[39;49m\u001b[39m.\u001b[39;49mget_parent(\u001b[39m\"\u001b[39;49m\u001b[39mshell\u001b[39;49m\u001b[39m\"\u001b[39;49m),\n\u001b[1;32m   1195\u001b[0m     password\u001b[39m=\u001b[39;49m\u001b[39mFalse\u001b[39;49;00m,\n\u001b[1;32m   1196\u001b[0m )\n",
      "File \u001b[0;32m~/Desktop/Programavimas Python/CodeAcademy/pythonintro/mano-pirma-repozitorija/venv/lib/python3.11/site-packages/ipykernel/kernelbase.py:1234\u001b[0m, in \u001b[0;36mKernel._input_request\u001b[0;34m(self, prompt, ident, parent, password)\u001b[0m\n\u001b[1;32m   1231\u001b[0m \u001b[39mexcept\u001b[39;00m \u001b[39mKeyboardInterrupt\u001b[39;00m:\n\u001b[1;32m   1232\u001b[0m     \u001b[39m# re-raise KeyboardInterrupt, to truncate traceback\u001b[39;00m\n\u001b[1;32m   1233\u001b[0m     msg \u001b[39m=\u001b[39m \u001b[39m\"\u001b[39m\u001b[39mInterrupted by user\u001b[39m\u001b[39m\"\u001b[39m\n\u001b[0;32m-> 1234\u001b[0m     \u001b[39mraise\u001b[39;00m \u001b[39mKeyboardInterrupt\u001b[39;00m(msg) \u001b[39mfrom\u001b[39;00m \u001b[39mNone\u001b[39;00m\n\u001b[1;32m   1235\u001b[0m \u001b[39mexcept\u001b[39;00m \u001b[39mException\u001b[39;00m:\n\u001b[1;32m   1236\u001b[0m     \u001b[39mself\u001b[39m\u001b[39m.\u001b[39mlog\u001b[39m.\u001b[39mwarning(\u001b[39m\"\u001b[39m\u001b[39mInvalid Message:\u001b[39m\u001b[39m\"\u001b[39m, exc_info\u001b[39m=\u001b[39m\u001b[39mTrue\u001b[39;00m)\n",
      "\u001b[0;31mKeyboardInterrupt\u001b[0m: Interrupted by user"
     ]
    }
   ],
   "source": [
    "import sqlite3\n",
    "conn = sqlite3.connect(\"masinos.db\")\n",
    "c = conn.cursor()\n",
    "\n",
    "while True:\n",
    "    print(\"\"\"===[Masinu Katalogas]===\n",
    "    1 - Paieska pagal MARKE\n",
    "    2 - Paieska pagal MODELI\n",
    "    3 - Paieska pagal SPALVA\n",
    "    4 - Paieska pagal METUS\n",
    "    5 - Paieska pagal KAINA\n",
    "    \"\"\")\n",
    "    choice = input(\"Pasirinkite: \")\n",
    "    if choice == \"1\":\n",
    "        marke = input(\"Marke: \")\n",
    "        with conn:\n",
    "            c.execute('Select rowid, * FROM masina WHERE marke =?', (marke, ))\n",
    "            masina = c.fetchall()\n",
    "        \n",
    "   \n",
    "    elif choice == \"2\":\n",
    "        modelis = input(\"Modelis: \")\n",
    "        with conn:\n",
    "            c.execute('Select rowid * FROM masina WHERE modelis =?',(modelis, ))\n",
    "            modelis = c.fetchall()\n",
    "\n",
    "    elif choice == \"3\":\n",
    "        spalva = input(\"Spalva: \")\n",
    "        with conn:\n",
    "            c.execute('Select rowid * FROM masina WHERE spalva =?',(spalva, ))\n",
    "            modelis = c.fetchall()\n",
    "\n",
    "    elif choice == \"4\":\n",
    "        metai = input(\"Metai: \")\n",
    "        with conn:\n",
    "            c.execute('Select rowid * FROM masina WHERE metai =?',(metai, ))\n",
    "            metai = c.fetchall()\n",
    "\n",
    "    elif choice == \"5\":\n",
    "        kaina = kaina(\"Kaina: \")\n",
    "        with conn:\n",
    "            c.execute('Select rowid * FROM masina WHERE kaina =?', (kaina,))\n",
    "\n",
    "    else:\n",
    "        break\n",
    "\n",
    "c.close\n",
    "\n",
    "\n"
   ]
  },
  {
   "cell_type": "code",
   "execution_count": 3,
   "metadata": {},
   "outputs": [],
   "source": [
    "from sqlalchemy import Column, Integer, String, ForeignKey, create_engine\n",
    "from sqlalchemy.ext.declarative import declarative_base\n",
    "from sqlalchemy.orm import relationship, sessionmaker\n",
    "\n",
    "engine = create_engine('sqlite:///many2one_test.db', echo=True)\n",
    "Base = declarative_base\n",
    "\n",
    "from typing import Any\n",
    "class Base(DeclarativeBase):\n",
    "    pass"
   ]
  },
  {
   "cell_type": "code",
   "execution_count": 7,
   "metadata": {},
   "outputs": [
    {
     "ename": "TypeError",
     "evalue": "function() argument 'code' must be code, not str",
     "output_type": "error",
     "traceback": [
      "\u001b[0;31m---------------------------------------------------------------------------\u001b[0m",
      "\u001b[0;31mTypeError\u001b[0m                                 Traceback (most recent call last)",
      "Cell \u001b[0;32mIn[7], line 1\u001b[0m\n\u001b[0;32m----> 1\u001b[0m \u001b[39mclass\u001b[39;49;00m \u001b[39mVaikas\u001b[39;49;00m(Base):\n\u001b[1;32m      2\u001b[0m     __tablename__ \u001b[39m=\u001b[39;49m \u001b[39m\"\u001b[39;49m\u001b[39mvaikas\u001b[39;49m\u001b[39m\"\u001b[39;49m\n\u001b[1;32m      3\u001b[0m     \u001b[39mid\u001b[39;49m \u001b[39m=\u001b[39;49m Column(Integer, primary_key\u001b[39m=\u001b[39;49m\u001b[39mTrue\u001b[39;49;00m)\n",
      "\u001b[0;31mTypeError\u001b[0m: function() argument 'code' must be code, not str"
     ]
    }
   ],
   "source": [
    "\n",
    "\n",
    "class Vaikas(Base):\n",
    "    __tablename__ = \"vaikas\"\n",
    "    id = Column(Integer, primary_key=True)\n",
    "    vardas = Column(\"Vardas\", String)\n",
    "    pavarde = Column(\"Pavarde\", String)\n",
    "    mokykla = Column(\"Mokykla\", String)\n",
    "    tevas_id = Column(Integer, ForeignKey('tevas.id'))\n",
    "    tevas = relationship(\"Tevas\")\n",
    "\n",
    "class Tevas(Base):\n",
    "    __tablename__ = \"tevas\"\n",
    "    id = Column(Integer, primary_key=True)\n",
    "    vardas = Column(\"Vardas\", String)\n",
    "    pavarde = Column(\"Pavarde\", String)\n",
    "\n",
    "Base.metadata.create_all(engine)\n"
   ]
  },
  {
   "cell_type": "code",
   "execution_count": 6,
   "metadata": {},
   "outputs": [],
   "source": [
    "Session = sessionmaker(bind=engine)\n",
    "session = Session()"
   ]
  },
  {
   "cell_type": "code",
   "execution_count": 32,
   "metadata": {},
   "outputs": [
    {
     "name": "stdout",
     "output_type": "stream",
     "text": [
      "33824\n"
     ]
    }
   ],
   "source": [
    "import random\n",
    "\n",
    "x = random.randint(9999, 59999)\n",
    "\n",
    "print(x)"
   ]
  }
 ],
 "metadata": {
  "kernelspec": {
   "display_name": "venv",
   "language": "python",
   "name": "python3"
  },
  "language_info": {
   "codemirror_mode": {
    "name": "ipython",
    "version": 3
   },
   "file_extension": ".py",
   "mimetype": "text/x-python",
   "name": "python",
   "nbconvert_exporter": "python",
   "pygments_lexer": "ipython3",
   "version": "3.11.3"
  },
  "orig_nbformat": 4
 },
 "nbformat": 4,
 "nbformat_minor": 2
}
