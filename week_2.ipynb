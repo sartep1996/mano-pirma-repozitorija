{
 "cells": [
  {
   "cell_type": "code",
   "execution_count": 101,
   "metadata": {},
   "outputs": [
    {
     "name": "stdout",
     "output_type": "stream",
     "text": [
      "[11, 12, 13]\n"
     ]
    }
   ],
   "source": [
    "skaiciai = [5, 6, 7, 8, 9, 10, 11, 12, 13]\n",
    "\n",
    "\n",
    "didesni_skaiciai = list(filter(lambda skaicius: skaicius > 10, skaiciai))\n",
    "print(didesni_skaiciai)"
   ]
  },
  {
   "cell_type": "code",
   "execution_count": 102,
   "metadata": {},
   "outputs": [
    {
     "name": "stdout",
     "output_type": "stream",
     "text": [
      "81\n"
     ]
    }
   ],
   "source": [
    "skaiciai = [5, 6, 7, 8, 9, 10, 11, 12, 13]\n",
    "\n",
    "\n",
    "vidurkis = lambda num: sum(num)\n",
    "print(vidurkis(skaiciai))"
   ]
  },
  {
   "cell_type": "code",
   "execution_count": 103,
   "metadata": {},
   "outputs": [
    {
     "name": "stdout",
     "output_type": "stream",
     "text": [
      "<__main__.Gyvunai object at 0x114a4db10>\n",
      "guliu tyliai\n",
      "<__main__.Kate object at 0x114c0d390>\n",
      "miauksejimas\n",
      "sliukinu\n",
      "<__main__.Suo object at 0x114e36290>\n",
      "au au\n",
      "begti\n"
     ]
    }
   ],
   "source": [
    "class Gyvunai:\n",
    "    def __init__ (self, vardas, amzius):\n",
    "        self.vardas = vardas\n",
    "        self.amzius = amzius\n",
    "\n",
    "    def gauti_varda(self):\n",
    "        return self.vardas\n",
    "    \n",
    "    def gauti_amziu(self):\n",
    "        return self.amzius\n",
    "    \n",
    "    def balsas (self):\n",
    "        pass\n",
    "\n",
    "    def judeti (self):\n",
    "        print(\"guliu tyliai\")\n",
    "\n",
    "\n",
    "class Kate(Gyvunai):\n",
    "    def balsas (self):\n",
    "        print(\"miauksejimas\")\n",
    "\n",
    "    def judeti(self):\n",
    "        print (\"sliukinu\")\n",
    "    \n",
    "\n",
    "class Suo (Kate):\n",
    "    def balsas(self):\n",
    "        print (\"au au\")\n",
    "    \n",
    "    def judeti (self):\n",
    "        print (\"begti\")\n",
    "\n",
    "\n",
    "skunkas = Gyvunai(\"Laris\", 5)\n",
    "kaciukas = Kate(\"Garfildas\", 3)\n",
    "suniukas = Suo(\"Reksas\", 18)\n",
    "\n",
    "\n",
    "print(skunkas)\n",
    "skunkas.balsas()\n",
    "skunkas.judeti()\n",
    "\n",
    "print(kaciukas)\n",
    "kaciukas.balsas()\n",
    "kaciukas.judeti()\n",
    "\n",
    "print(suniukas)\n",
    "suniukas.balsas()\n",
    "suniukas.judeti()\n",
    "\n",
    "    \n",
    "\n"
   ]
  },
  {
   "cell_type": "code",
   "execution_count": 104,
   "metadata": {},
   "outputs": [
    {
     "name": "stdout",
     "output_type": "stream",
     "text": [
      "15\n"
     ]
    }
   ],
   "source": [
    "skaiciai = [15, 11, 12]\n",
    "did_skaicius = lambda skaicius: max(skaiciai) \n",
    "print(did_skaicius(skaiciai))"
   ]
  },
  {
   "cell_type": "code",
   "execution_count": 105,
   "metadata": {},
   "outputs": [
    {
     "name": "stdout",
     "output_type": "stream",
     "text": [
      "6.0\n"
     ]
    }
   ],
   "source": [
    "def calculate_average (*args):\n",
    "    sum = 0 \n",
    "    for arg in args:\n",
    "        sum = sum + arg\n",
    "        finalsum = sum/len(args)\n",
    "    return finalsum\n",
    "\n",
    "\n",
    "print(calculate_average(3, 7, 8))"
   ]
  },
  {
   "cell_type": "code",
   "execution_count": 106,
   "metadata": {},
   "outputs": [
    {
     "name": "stdout",
     "output_type": "stream",
     "text": [
      " hello my dear\n"
     ]
    }
   ],
   "source": [
    "def merge_strings (*args):\n",
    "    string_list = \" \"\n",
    "    for arg in args:\n",
    "        string_list = string_list + arg\n",
    "    if len(args) == 0:\n",
    "        return \"\"\n",
    "    return string_list\n",
    "\n",
    "\n",
    "print(merge_strings(\"hello \", \"my \", \"dear\"))\n"
   ]
  },
  {
   "cell_type": "code",
   "execution_count": 107,
   "metadata": {},
   "outputs": [
    {
     "name": "stdout",
     "output_type": "stream",
     "text": [
      "Akmuo: Stone\n",
      "Brolis: Brother\n",
      "Cepelinai: Zeppelin\n",
      "\n"
     ]
    }
   ],
   "source": [
    "def create_dictionarry (**kwargs):\n",
    "    result = \"\"\n",
    "    for key, value in kwargs.items():\n",
    "        result = result + f\"{key}: {value}\\n\"\n",
    "    return result\n",
    "\n",
    "print((create_dictionarry(Akmuo = \"Stone\", Brolis = \"Brother\", Cepelinai = \"Zeppelin\")))"
   ]
  },
  {
   "cell_type": "code",
   "execution_count": 108,
   "metadata": {},
   "outputs": [
    {
     "name": "stdout",
     "output_type": "stream",
     "text": [
      "vardas: Jonas\n",
      "amzius: 30\n",
      "miestas: Vilnius\n",
      "\n"
     ]
    }
   ],
   "source": [
    "\n",
    "# Isveda items stringe (nepadaro zodyno)\n",
    "\n",
    "def spausdinti_kwargs(**kwargs):\n",
    "    result= \"\"\n",
    "    for key, value in kwargs.items():\n",
    "        result = result + f\"{key }: {value }\\n\"\n",
    "    return result\n",
    "\n",
    "print((spausdinti_kwargs(vardas=\"Jonas\", amzius=30, miestas=\"Vilnius\")))"
   ]
  },
  {
   "cell_type": "code",
   "execution_count": 109,
   "metadata": {},
   "outputs": [
    {
     "name": "stdout",
     "output_type": "stream",
     "text": [
      "{'vardas': 'Jonas', 'amzius': 30, 'miestas': 'Vilnius'}\n"
     ]
    }
   ],
   "source": [
    "# Padaro zodyna\n",
    "\n",
    "def spausdinti_kwargs(**kwargs):\n",
    "    result= {}\n",
    "    for key, value in kwargs.items():\n",
    "        result [key] = value\n",
    "    return result\n",
    "\n",
    "print((spausdinti_kwargs(vardas=\"Jonas\", amzius=30, miestas=\"Vilnius\")))"
   ]
  },
  {
   "cell_type": "code",
   "execution_count": 110,
   "metadata": {},
   "outputs": [
    {
     "name": "stdout",
     "output_type": "stream",
     "text": [
      "Name: John\n",
      "Age: 30\n",
      "funny\n",
      "great\n",
      "amazing\n"
     ]
    }
   ],
   "source": [
    "def print_details(*args, **kwargs,):\n",
    "    for key, value in kwargs.items():\n",
    "        print (f\"{key}: {value}\")\n",
    "    for arg in args:\n",
    "        print(arg)\n",
    "\n",
    "print_details(\"funny\", \"great\", \"amazing\", Name = \"John\", Age = \"30\")\n"
   ]
  },
  {
   "cell_type": "code",
   "execution_count": 111,
   "metadata": {},
   "outputs": [
    {
     "name": "stdout",
     "output_type": "stream",
     "text": [
      "True\n"
     ]
    }
   ],
   "source": [
    "def parrot_trouble(talking, hour):\n",
    "  return (talking and (hour < 7 or hour > 20))\n",
    "\n",
    "print(parrot_trouble(True, 6))"
   ]
  },
  {
   "cell_type": "code",
   "execution_count": 112,
   "metadata": {},
   "outputs": [
    {
     "name": "stdout",
     "output_type": "stream",
     "text": [
      "False\n"
     ]
    }
   ],
   "source": [
    "def makes10(a, b):\n",
    "  if a == 10 or b == 10 and a + b == 10:\n",
    "    return True\n",
    "  else:\n",
    "    return False\n",
    "  \n",
    "print(makes10(9, 9))\n"
   ]
  },
  {
   "cell_type": "code",
   "execution_count": 113,
   "metadata": {},
   "outputs": [],
   "source": [
    "# def near_hundred(n):\n",
    "#   if n > 90 and n < 100 or n > 100 and n < 200:\n",
    "#     return True\n",
    "#   else:\n",
    "#     return False\n",
    "\n",
    "\n",
    "def near_hundred(n):\n",
    "  if abs(100 - n) <= 10 or abs(200 - n) <= 10:\n",
    "    return True\n",
    "  else:\n",
    "    return False"
   ]
  },
  {
   "attachments": {},
   "cell_type": "markdown",
   "metadata": {},
   "source": [
    "# def pos_neg(a, b, negative):\n",
    "#   if a < 0 or b > 0 and a > 0 or b < 0\n",
    "#     return True\n",
    "#   elif a < 0 and b < 0:\n",
    "#     return True\n",
    "#   else:\n",
    "#     return False\n",
    "    \n",
    "    \n",
    "    \n",
    "def pos_neg(a, b, negative):\n",
    "  if negative:\n",
    "    return (a < 0 and b < 0)\n",
    "  else:\n",
    "    return ((a < 0 and b > 0) or (a > 0 and b < 0))"
   ]
  },
  {
   "cell_type": "code",
   "execution_count": 114,
   "metadata": {},
   "outputs": [],
   "source": [
    "# def not_string(str):\n",
    "#   if \"not\" not in str:\n",
    "#     str = \"not \" + str\n",
    "#     return str\n",
    "#   else: \n",
    "#     return str\n",
    "\n",
    "def not_string(str):\n",
    "  if len(str) >= 3 and str[:3] == \"not\":\n",
    "    return str\n",
    "  else:\n",
    "    return \"not \" + str"
   ]
  },
  {
   "cell_type": "code",
   "execution_count": 115,
   "metadata": {},
   "outputs": [],
   "source": [
    "# def missing_char(str, n):\n",
    "#   index_remove = n \n",
    "#   if n >= 0:\n",
    "#       final_word = str[index_remove] + str[index_remove + 1]\n",
    "#   return final_word\n",
    "\n",
    "\n",
    "def missing_char(str, n):\n",
    "  index_remove = n \n",
    "  if n >= 0:\n",
    "    final_word = str[:index_remove] + str[index_remove + 1:]\n",
    "  else:\n",
    "    final_word = str\n",
    "  return final_word"
   ]
  },
  {
   "cell_type": "code",
   "execution_count": 116,
   "metadata": {},
   "outputs": [],
   "source": [
    "# def front_back(str):\n",
    "#   str = str.replace([0], [-1] and [-1], [0])\n",
    "# return str\n",
    "\n",
    "def front_back(str):\n",
    "   if len(str) > 1:\n",
    "      str = str[-1] + str[1:-1] + str[0]\n",
    "   return str"
   ]
  },
  {
   "cell_type": "code",
   "execution_count": 117,
   "metadata": {},
   "outputs": [
    {
     "name": "stdout",
     "output_type": "stream",
     "text": [
      "Jonas\n",
      "Jonaitis\n",
      "Siuvejas\n",
      "3000\n"
     ]
    }
   ],
   "source": [
    "class Darbuotojas:\n",
    "    vardas = \"\"\n",
    "    pavarde = \"\"\n",
    "    pareigybes = \"\"\n",
    "    atlyginimas = \"\"\n",
    "\n",
    "pirmas_darbuotojas = Darbuotojas()\n",
    "pirmas_darbuotojas.vardas = \"Jonas\"\n",
    "pirmas_darbuotojas.pavarde = \"Jonaitis\"\n",
    "pirmas_darbuotojas.pareigybes = \"Siuvejas\"\n",
    "pirmas_darbuotojas.atlyginimas = 3000\n",
    "\n",
    "\n",
    "\n",
    "print(pirmas_darbuotojas.vardas)\n",
    "print(pirmas_darbuotojas.pavarde)\n",
    "print(pirmas_darbuotojas.pareigybes)\n",
    "print(pirmas_darbuotojas.atlyginimas)\n"
   ]
  },
  {
   "cell_type": "code",
   "execution_count": 118,
   "metadata": {},
   "outputs": [
    {
     "name": "stdout",
     "output_type": "stream",
     "text": [
      "Siuvejas\n",
      "2000\n",
      "5000\n"
     ]
    }
   ],
   "source": [
    "class Darbuotojas:\n",
    "   def __init__(self, vardas, pavarde, pareigybes, atlyginimas=3000):\n",
    "        self.vardas = vardas\n",
    "        self.pavarde = pavarde\n",
    "        self.pareigybes = pareigybes\n",
    "        self.atlyginimas = atlyginimas\n",
    "   \n",
    "   def __str__(self):\n",
    "       return f'{self.vardas} {self.pavarde}, pareigybes: {self.pareigybes}, atlyginimas: {self.atlyginimas} '\n",
    "   \n",
    "darbuotojas = Darbuotojas(\"Jonas\", \"Jonaitis\", \"Siuvejas\", 2000)\n",
    "\n",
    "print(darbuotojas.pareigybes)\n",
    "\n",
    "print(darbuotojas.atlyginimas)\n",
    "\n",
    "darbuotojas.atlyginimas = 5000\n",
    "\n",
    "print(darbuotojas.atlyginimas)\n",
    "    \n"
   ]
  },
  {
   "cell_type": "code",
   "execution_count": 119,
   "metadata": {},
   "outputs": [
    {
     "name": "stdout",
     "output_type": "stream",
     "text": [
      "Gyvuno vardas: Pūkis\n",
      "Gyvuno amzius:  15\n",
      "Gyvuno svoris: 16\n",
      "Gyvuno vardas: Pūkis\n",
      "Gyvuno amzius:  16\n",
      "Gyvuno svoris: 17\n"
     ]
    }
   ],
   "source": [
    "class Gyvunai:\n",
    "    def __init__ (self, vardas, amzius, svoris):\n",
    "        self.vardas = vardas\n",
    "        self.amzius = amzius\n",
    "        self.svoris = svoris\n",
    "\n",
    "    def pakeisti_svori (self, new_svoris):\n",
    "        self.svoris += new_svoris\n",
    "\n",
    "    def pakeisti_amziu (self, new_amzius):\n",
    "        self.amzius += new_amzius\n",
    "\n",
    "    def __str__ (self):\n",
    "        return f'{self.vardas}, amzius: {self.amzius}, svoris: {self.svoris}'\n",
    "    \n",
    "gyvunas = Gyvunai (\"Pūkis\", 15, 16)\n",
    "\n",
    "print(\"Gyvuno vardas:\", gyvunas.vardas)\n",
    "print(\"Gyvuno amzius: \", gyvunas.amzius)\n",
    "print(\"Gyvuno svoris:\", gyvunas.svoris)\n",
    "\n",
    "gyvunas.pakeisti_svori(1)\n",
    "gyvunas.pakeisti_amziu(1)\n",
    "\n",
    "print(\"Gyvuno vardas:\", gyvunas.vardas)\n",
    "print(\"Gyvuno amzius: \", gyvunas.amzius)\n",
    "print(\"Gyvuno svoris:\", gyvunas.svoris)   \n",
    "\n",
    "\n"
   ]
  },
  {
   "cell_type": "code",
   "execution_count": null,
   "metadata": {},
   "outputs": [],
   "source": []
  },
  {
   "cell_type": "code",
   "execution_count": 120,
   "metadata": {},
   "outputs": [
    {
     "name": "stdout",
     "output_type": "stream",
     "text": [
      "100 dol sekmingai nuskaityta. Dabartinis likutis: 900\n"
     ]
    },
    {
     "data": {
      "text/plain": [
       "900"
      ]
     },
     "execution_count": 120,
     "metadata": {},
     "output_type": "execute_result"
    }
   ],
   "source": [
    "class BankAccount:\n",
    "    def __init__(self, account_number, owner, balance, pin_code):\n",
    "        self.account_number = account_number\n",
    "        self.owner = owner\n",
    "        self.__balance = balance\n",
    "        self.__pin_code = pin_code\n",
    "\n",
    "    def see_balance(self):\n",
    "        return self.__balance\n",
    "\n",
    "    def with_money(self, amount, pin_code):\n",
    "        if pin_code == self.__pin_code:\n",
    "            self.__balance -= amount\n",
    "            print (f\"{amount} dol sekmingai nuskaityta. Dabartinis likutis: {self.__balance}\")\n",
    "            return self.__balance\n",
    "        else: print(\"Neteisingas slaptazodis. Nuskaitymas negalimas\")\n",
    "    \n",
    "    def __str__(self):\n",
    "        return f\"{self.account_number} {self.owner}, balansas: {self.__balance} pin_kodas: {self.__pin_code} \"\n",
    "    \n",
    "jusu_saskaita = BankAccount('33333', 'Petras Anskaitis', 1000, 1222)\n",
    "\n",
    "jusu_saskaita.with_money(100, 1222)\n",
    "    \n"
   ]
  },
  {
   "cell_type": "code",
   "execution_count": 121,
   "metadata": {},
   "outputs": [
    {
     "name": "stdout",
     "output_type": "stream",
     "text": [
      "Neteisingas slaptažodis. Nuskaitymas negalimas.\n",
      "200 € sėkmingai nuskaityta. Dabartinis saskaitos likutis: 800 €\n",
      "100 € sėkmingai nuskaityta. Dabartinis saskaitos likutis: 700 €\n",
      "500 € sėkmingai papildyta. Dabartinis saskaitos likutis: 1200 €\n"
     ]
    }
   ],
   "source": [
    "class BankoSaskaita:\n",
    "    def __init__(self, saskaitos_numeris, savininkas, balansas, pin_kodas):\n",
    "        self.saskaitos_numeris = saskaitos_numeris\n",
    "        self.savininkas = savininkas\n",
    "        self.__balansas = balansas\n",
    "        self.__pin_kodas = pin_kodas\n",
    "\n",
    "    def nuskaityti(self, suma, pin_kodas):\n",
    "        if pin_kodas == self.__pin_kodas:\n",
    "            self.__balansas -= suma\n",
    "            print(f'{suma} € sėkmingai nuskaityta. Dabartinis saskaitos likutis: {self.__balansas} €')\n",
    "        else:\n",
    "            print('Neteisingas slaptažodis. Nuskaitymas negalimas.')\n",
    "\n",
    "    def papildyti(self, suma, pin_kodas):\n",
    "        if pin_kodas == self.__pin_kodas:\n",
    "            self.__balansas += suma\n",
    "            print(f'{suma} € sėkmingai papildyta. Dabartinis saskaitos likutis: {self.__balansas} €')\n",
    "        else:\n",
    "            print('Neteisingas slaptažodis. Papildymas negalimas.')\n",
    "\n",
    "saskaita = BankoSaskaita('LT123456789', 'Jonas Jonaitis', 1000, 1234)\n",
    "\n",
    "saskaita.nuskaityti(100, 1122)\n",
    "saskaita.nuskaityti(200, 1234)\n",
    "saskaita.nuskaityti(100, 1234)\n",
    "saskaita.papildyti(500, 1234)"
   ]
  },
  {
   "cell_type": "code",
   "execution_count": 122,
   "metadata": {},
   "outputs": [
    {
     "name": "stdout",
     "output_type": "stream",
     "text": [
      "gera\n",
      "823\n"
     ]
    }
   ],
   "source": [
    "class BookClass:\n",
    "    def __init__(self, name, author, condition, page_number):\n",
    "        self.name = name\n",
    "        self.author = author\n",
    "        self.__condition = condition\n",
    "        self.__page_number = page_number\n",
    "\n",
    "    def __change_condition(self, new_condition):\n",
    "        self.__condition = new_condition\n",
    "    \n",
    "    def nauja_bukle(self,new_condition):\n",
    "        self.__change_condition(new_condition)\n",
    "    \n",
    "    def gauti_bukle(self):\n",
    "        return self.__condition\n",
    "   \n",
    "        \n",
    "    def __lower_page_number(self, new_page_number):\n",
    "        self.__page_number -= new_page_number\n",
    "    \n",
    "    def isplesti_puslapius(self, new_page_number):\n",
    "        self.__lower_page_number(new_page_number)\n",
    "\n",
    "    def gauti_puslapius(self):\n",
    "        return self.__page_number\n",
    "\n",
    "nauja_knyga = BookClass(\"Paskutinis Mohikanas\", \"James Fenimore Cooper\", \"New\", 923)\n",
    "\n",
    "nauja_knyga.nauja_bukle(\"gera\")\n",
    "nauja_knyga.isplesti_puslapius(100)\n",
    "\n",
    "print(nauja_knyga.gauti_bukle())\n",
    "print(nauja_knyga.gauti_puslapius())\n",
    "\n",
    "\n",
    "    "
   ]
  },
  {
   "cell_type": "code",
   "execution_count": 123,
   "metadata": {},
   "outputs": [
    {
     "name": "stdout",
     "output_type": "stream",
     "text": [
      "200345\n"
     ]
    }
   ],
   "source": [
    "class AutomobiliuRida:\n",
    "    def __init__(self, modelis, numeris, rida):\n",
    "        self.__modelis = modelis\n",
    "        self.__numeris = numeris\n",
    "        self.__rida = rida\n",
    "\n",
    "    def gauti_modeli(self):\n",
    "        return self.__modelis \n",
    "        \n",
    "    def gauti_numeris(self):\n",
    "        return self.__numeris\n",
    "        \n",
    "    def __nauja_rida(self, nuvaziuotas_atstumas):\n",
    "        self.__rida += nuvaziuotas_atstumas\n",
    "        \n",
    "    def prideti_rida(self, nuvaziuotas_atstumas):\n",
    "        self.__nauja_rida(nuvaziuotas_atstumas)\n",
    "\n",
    "    def gauti_rida(self):\n",
    "        return self.__rida\n",
    "        \n",
    "automobilis = AutomobiliuRida(\"Toyota\", \"Yaris\", 200000)\n",
    "    \n",
    "automobilis.prideti_rida(345)\n",
    "\n",
    "print(automobilis.gauti_rida())"
   ]
  },
  {
   "cell_type": "code",
   "execution_count": 124,
   "metadata": {},
   "outputs": [
    {
     "name": "stdout",
     "output_type": "stream",
     "text": [
      " name: John age: 32, gender: man occupation: electritian year_untill_retirement: <bound method Person.show_time_till_retirement of <__main__.Person object at 0x114d608d0>> \n"
     ]
    }
   ],
   "source": [
    "class Person:\n",
    "    def __init__(self, name, age, gender, occupation):\n",
    "        self.name = name\n",
    "        self.age = age \n",
    "        self.gender = gender\n",
    "        self.occupation = occupation\n",
    "\n",
    "    def get_name (self):\n",
    "        return self.name\n",
    "   \n",
    "    def get_age (self):\n",
    "        return self.age\n",
    "    \n",
    "    def get_gender (self):\n",
    "        return self.gender\n",
    "    \n",
    "    def get_occupation (self):\n",
    "        return self.occupation\n",
    "    \n",
    "    def __years_worked(self):\n",
    "        years_till_retire = 66 - (self.age - self.years_of_experience())\n",
    "        # if nudirbta_metu > 48:\n",
    "        #     print(f\"Time for  {self.name}, to retire\")\n",
    "        # else: print( f\"You still have {nudirbta_metu} untill reirement \")\n",
    "        return years_till_retire\n",
    "\n",
    "    def show_time_till_retirement (self):\n",
    "        # return __years_worked\n",
    "        years_till_retire = self.__years_worked\n",
    "        if years_till_retire <= 0:\n",
    "            print(f\"{self.name} is already retired\")\n",
    "        else: \n",
    "            print(f\"{self.name} has {years_till_retire} years untill retirement\")\n",
    "    \n",
    "    \n",
    "    def __str__(self):\n",
    "        return f\" name: {self.name} age: {self.age}, gender: {self.gender} occupation: {self.occupation} year_untill_retirement: {self.show_time_till_retirement} \"\n",
    "    \n",
    "random_person = Person (\"John\", 32, \"man\", \"electritian\")\n",
    "\n",
    "random_person._years_of_experience = 10 ##\n",
    "random_person.show_time_till_retirement\n",
    "print(random_person)\n",
    "    \n",
    "\n",
    "        "
   ]
  },
  {
   "cell_type": "code",
   "execution_count": 125,
   "metadata": {},
   "outputs": [
    {
     "name": "stdout",
     "output_type": "stream",
     "text": [
      "John has 44 years until retirement.\n",
      "name: John, age: 32, gender: man, occupation: electrician\n"
     ]
    }
   ],
   "source": [
    "class Guy:\n",
    "    def __init__(self, name, age, gender, occupation):\n",
    "        self.name = name\n",
    "        self.age = age \n",
    "        self.gender = gender\n",
    "        self.occupation = occupation\n",
    "\n",
    "    def get_name(self):\n",
    "        return self.name\n",
    "   \n",
    "    def get_age(self):\n",
    "        return self.age\n",
    "    \n",
    "    def get_gender(self):\n",
    "        return self.gender\n",
    "    \n",
    "    def get_occupation(self):\n",
    "        return self.occupation\n",
    "    \n",
    "    def __years_worked(self):\n",
    "        years_till_retire = 66 - (self.age - self.years_of_experience)\n",
    "        return years_till_retire\n",
    "\n",
    "    def show_time_till_retirement(self):\n",
    "        years_till_retire = self.__years_worked()\n",
    "        if years_till_retire <= 0:\n",
    "            print(f\"{self.name} is already retired!\")\n",
    "        else:\n",
    "            print(f\"{self.name} has {years_till_retire} years until retirement.\")\n",
    "\n",
    "    def __str__(self):\n",
    "        return f\"name: {self.name}, age: {self.age}, gender: {self.gender}, occupation: {self.occupation}\"\n",
    "\n",
    "# Example usage:\n",
    "random_guy = Guy(\"John\", 32, \"man\", \"electrician\")\n",
    "random_guy.years_of_experience = 10\n",
    "random_guy.show_time_till_retirement()\n",
    "print(random_guy)"
   ]
  },
  {
   "cell_type": "code",
   "execution_count": 126,
   "metadata": {},
   "outputs": [
    {
     "name": "stdout",
     "output_type": "stream",
     "text": [
      " Student: Petras, Age: 26, Major: lingvistika, GPA: 227.9\n"
     ]
    }
   ],
   "source": [
    "class Student:\n",
    "    def __init__ (self, name, age, major, gpa):\n",
    "        self.name = name\n",
    "        self.age = age\n",
    "        self.major = major\n",
    "        self.gpa = gpa\n",
    "\n",
    "\n",
    "    def get_name(self):\n",
    "        return self.name\n",
    "    def get_age (self):\n",
    "        return self.age\n",
    "    def get_major(self):\n",
    "        return self.major\n",
    "    def get_gpa(self):\n",
    "        return self.gpa\n",
    "    \n",
    "    def set_gpa(self, new_value):\n",
    "        self.gpa += new_value\n",
    "\n",
    "    def __str__(self): \n",
    "        return(f\" Student: {self.name}, Age: {self.age}, Major: {self.major}, GPA: {self.gpa}\")\n",
    "        ##print instead of return\n",
    "\n",
    "student1 = Student(\"Petras\", 26, \"lingvistika\", 102.5)\n",
    "## used \" ,  \" instead of \" . \"\n",
    "\n",
    "student1.set_gpa(125.4)\n",
    "\n",
    "print(student1)\n"
   ]
  },
  {
   "cell_type": "code",
   "execution_count": 127,
   "metadata": {},
   "outputs": [
    {
     "name": "stdout",
     "output_type": "stream",
     "text": [
      "Pilkis\n",
      "Ramiai guliu...\n",
      "Rainė\n",
      "Miau\n",
      "Einu lėtai\n",
      "Margis\n",
      "Au au!\n",
      "Bėgu greitai\n"
     ]
    }
   ],
   "source": [
    "class Gyvunas:\n",
    "    def __init__(self, vardas):\n",
    "        self.vardas = vardas\n",
    "\n",
    "    def balsas(self):\n",
    "        pass\n",
    "\n",
    "    def judeti(self):\n",
    "        print('Ramiai guliu...')\n",
    "\n",
    "class Kate(Gyvunas):\n",
    "    def balsas(self):\n",
    "        print('Miau')\n",
    "\n",
    "    def judeti(self):\n",
    "        print('Einu lėtai')\n",
    "\n",
    "class Suo(Gyvunas):\n",
    "    def balsas(self):\n",
    "        print('Au au!')\n",
    "\n",
    "    def judeti(self):\n",
    "        print('Bėgu greitai')\n",
    "\n",
    "\n",
    "seskas = Gyvunas('Pilkis')\n",
    "kate = Kate('Rainė')\n",
    "suo = Suo('Margis')\n",
    "\n",
    "print(seskas.vardas)\n",
    "seskas.balsas()\n",
    "seskas.judeti()\n",
    "\n",
    "print(kate.vardas)\n",
    "kate.balsas()\n",
    "kate.judeti()\n",
    "\n",
    "print(suo.vardas)\n",
    "suo.balsas()\n",
    "suo.judeti()"
   ]
  },
  {
   "cell_type": "code",
   "execution_count": 128,
   "metadata": {},
   "outputs": [
    {
     "ename": "IndentationError",
     "evalue": "expected an indented block after function definition on line 8 (2319076570.py, line 10)",
     "output_type": "error",
     "traceback": [
      "\u001b[0;36m  Cell \u001b[0;32mIn[128], line 10\u001b[0;36m\u001b[0m\n\u001b[0;31m    def stop (self):\u001b[0m\n\u001b[0m    ^\u001b[0m\n\u001b[0;31mIndentationError\u001b[0m\u001b[0;31m:\u001b[0m expected an indented block after function definition on line 8\n"
     ]
    }
   ],
   "source": [
    "class Vehicle:\n",
    "\n",
    "    def __init__ (self, maker, model, year, color):\n",
    "        self.maker = maker\n",
    "        self.model = model\n",
    "        self.year = year\n",
    "        self.color = color\n",
    "        self.speed = 0\n",
    "        self.gear = 1\n",
    "        self.max_gear = 4\n",
    "\n",
    "    \n",
    "    def change_speed (self, additional_speed):\n",
    "        self.speed += additional_speed\n",
    "        if self.speed < 0:\n",
    "            self.speed = 0\n",
    "\n",
    "    def accelerate (self, acceleration):\n",
    "        self.change_speed (self.speed + acceleration)\n",
    "\n",
    "    def brake (self, decceleration):\n",
    "        self.change_speed (self.speed - decceleration)\n",
    "\n",
    "    def choose_gear (self, chosen_gear):\n",
    "        self.gear =+ chosen_gear\n",
    "        if self.gear < 1:\n",
    "            self.gear = 1\n",
    "        elif self.gear > self.max_gear:\n",
    "            self.gear = self.max_gear\n",
    "\n",
    "    def increase_gear (self, additional_gear):\n",
    "        self.chage_gear (self.gear + additional_gear)\n",
    "\n",
    "    def decrease_gear (self, additional_gear):\n",
    "        self.chage_gear (self.gear - additional_gear)\n",
    "\n",
    "\n",
    "class Car(Vehicle):\n",
    "    def __init__ (self,maker, model, year, color):\n",
    "        super().__init__(maker,model, year, color)\n",
    "        self.speed = 0\n",
    "        self.gear = 1\n",
    "        self.max_gear = 4\n",
    "\n",
    "     \n",
    "class Motorcycle(Vehicle):\n",
    "      def __init__ (self,maker, model, year, color):\n",
    "        super().__init__(maker,model, year, color)\n",
    "        self.speed = 0\n",
    "\n",
    "      def choose_gear(self, chosen_gear):\n",
    "        pass\n",
    "\n",
    "      def increase_gear(self, additional_gear):\n",
    "        pass\n",
    "\n",
    "      def decrease_gear(self, additional_gear):\n",
    "        pass\n",
    "\n",
    "\n",
    "class Truck(Vehicle):\n",
    "      def __init__ (self,maker, model, year, color):\n",
    "        super.__init__(maker,model, year, color)\n",
    "        self.speed = 0\n",
    "        self.gear = 1\n",
    "        self.max_gear = 4\n",
    "\n",
    "class UserInput():\n",
    "        def __init__ \n",
    "\n",
    "\n",
    "\n",
    "\n",
    "print(\"Hello, what type of vehicle would you like to create?\\n\"\n",
    "      \"Choose 1\\n\"\n",
    "      \"If you would like to get a CAR, press  ---> 1\\n\"\n",
    "      \"If you would like to get a MOTORCYCLE, press  ---> 2\\n\"\n",
    "      \"If you would like to get a Truck, press  ---> 3\")\n",
    "\n",
    "choice = print(int(input(\"Please make your choice 1, 2 or 3\")))\n",
    "\n",
    "while True:\n",
    "    if choice == 1:\n",
    "        maker = print(input(\"Please enter vehicle's maker: \"))\n",
    "        model = print(input(\"Please enter your vehicle's color: \"))\n",
    "        year = print(int(input(\"Please enter the year of the vehicle: \")))\n",
    "        colour = print(input(\"Please enter your vehicle's color: \"))\n",
    "\n",
    "    user_car = Car(maker, model, year, colour)\n",
    "\n",
    "\n",
    "    if choice == 2:\n",
    "        maker = print(input(\"Please enter motorcycle's maker: \"))\n",
    "        model = print(input(\"Please enter your motorcycle's color: \"))\n",
    "        year = print(int(input(\"Please enter the year of the motorcycle: \")))\n",
    "        colour = print(input(\"Please enter your motorcycle's color: \"))\n",
    "\n",
    "    user_motorcycle = Motorcycle(maker, model, year, colour)\n",
    "\n",
    "    if choice == 3:\n",
    "        maker = print(input(\"Please enter truck's maker: \"))\n",
    "        model = print(input(\"Please enter your truck's color: \"))\n",
    "        year = print(int(input(\"Please enter the year of the truck: \")))\n",
    "        colour = print(input(\"Please enter your truck's color: \"))\n",
    "\n",
    "    user_truck = Truck(maker, model, year, colour)\n",
    "\n",
    "\n",
    "\n",
    "\n",
    "\n",
    "\n"
   ]
  },
  {
   "cell_type": "code",
   "execution_count": 136,
   "metadata": {},
   "outputs": [
    {
     "name": "stdout",
     "output_type": "stream",
     "text": [
      "Dabartine baseino talpa: 900 siuo metu baseinas uzpildytas 450\n"
     ]
    },
    {
     "ename": "AttributeError",
     "evalue": "'Baseinas' object has no attribute 'keitimas'",
     "output_type": "error",
     "traceback": [
      "\u001b[0;31m---------------------------------------------------------------------------\u001b[0m",
      "\u001b[0;31mAttributeError\u001b[0m                            Traceback (most recent call last)",
      "Cell \u001b[0;32mIn[136], line 57\u001b[0m\n\u001b[1;32m     54\u001b[0m vichy_baseinas \u001b[39m=\u001b[39m Baseinas(\u001b[39m900\u001b[39m, \u001b[39m450\u001b[39m)\n\u001b[1;32m     55\u001b[0m \u001b[39mprint\u001b[39m(\u001b[39mf\u001b[39m\u001b[39m\"\u001b[39m\u001b[39mDabartine baseino talpa: \u001b[39m\u001b[39m{\u001b[39;00mvichy_baseinas\u001b[39m.\u001b[39mget_talpa()\u001b[39m}\u001b[39;00m\u001b[39m siuo metu baseinas uzpildytas \u001b[39m\u001b[39m{\u001b[39;00mvichy_baseinas\u001b[39m.\u001b[39mget_dabartinis_vandens_lygis()\u001b[39m}\u001b[39;00m\u001b[39m\"\u001b[39m)\n\u001b[0;32m---> 57\u001b[0m vichy_baseinas\u001b[39m.\u001b[39;49mnuleisti(\u001b[39m100\u001b[39;49m)\n\u001b[1;32m     58\u001b[0m vichy_baseinas\u001b[39m.\u001b[39mpildyti(\u001b[39m300\u001b[39m)\n\u001b[1;32m     60\u001b[0m \u001b[39mprint\u001b[39m(vichy_baseinas)\n",
      "Cell \u001b[0;32mIn[136], line 32\u001b[0m, in \u001b[0;36mBaseinas.nuleisti\u001b[0;34m(self, kiekis)\u001b[0m\n\u001b[1;32m     30\u001b[0m \u001b[39mdef\u001b[39;00m \u001b[39mnuleisti\u001b[39m (\u001b[39mself\u001b[39m, kiekis):\n\u001b[1;32m     31\u001b[0m     \u001b[39mif\u001b[39;00m \u001b[39mself\u001b[39m\u001b[39m.\u001b[39mdabartinis_vandens_lygis \u001b[39m-\u001b[39m kiekis \u001b[39m>\u001b[39m\u001b[39m=\u001b[39m \u001b[39m0\u001b[39m:\n\u001b[0;32m---> 32\u001b[0m         \u001b[39mself\u001b[39;49m\u001b[39m.\u001b[39;49mkeitimas(\u001b[39m-\u001b[39mkiekis)\n\u001b[1;32m     33\u001b[0m         \u001b[39mprint\u001b[39m(\u001b[39mf\u001b[39m\u001b[39m\"\u001b[39m\u001b[39mIspilta \u001b[39m\u001b[39m{\u001b[39;00mkiekis\u001b[39m}\u001b[39;00m\u001b[39m litru vandens\u001b[39m\u001b[39m\"\u001b[39m)\n\u001b[1;32m     34\u001b[0m     \u001b[39melse\u001b[39;00m:\n",
      "\u001b[0;31mAttributeError\u001b[0m: 'Baseinas' object has no attribute 'keitimas'"
     ]
    }
   ],
   "source": [
    "class Baseinas:\n",
    "    def __init__ (self, vandens_talpa, dabartinis_vandens_lygis):\n",
    "        self.vandens_talpa = vandens_talpa\n",
    "        self.dabartinis_vandens_lygis = dabartinis_vandens_lygis\n",
    "        # self.max_turis = 1000\n",
    "        # self.turis = 0\n",
    "\n",
    "\n",
    "    def __keisti_turi(self, kiekis):\n",
    "        self.dabartinis_vandens_lygis += kiekis\n",
    "        # if turis > self.max_turis:\n",
    "        #     turis = self.max_turis\n",
    "        # if turis < 0:\n",
    "        #     turis = 0\n",
    "        # return turis\n",
    "    \n",
    "    def pildyti (self, kiekis):\n",
    "        # turis = self.turis\n",
    "        if self.dabartinis_vandens_lygis + kiekis <= self.vandens_talpa:\n",
    "            self.__keisti_turi(kiekis)\n",
    "            print(f'Ipilta {kiekis} l vandens')\n",
    "        else: \n",
    "            print(f\"negalima ipilti {kiekis} vandens, nes virsys talpa\")\n",
    "        # if turis > 1000:\n",
    "        #     print (f\"baseine yra {self.turis} l ir baseinas perpildytas\")\n",
    "        # elif turis < 0 :\n",
    "        #     print (f\"is baseino negalima atimti{abs(self.turis)} nes baseinas tuscias\")\n",
    "        # else: print(\"keiciamas vandens kiekis\")\n",
    "   \n",
    "    def nuleisti (self, kiekis):\n",
    "        if self.dabartinis_vandens_lygis - kiekis >= 0:\n",
    "            self.__keisti_turi(-kiekis)\n",
    "            print(f\"Ispilta {kiekis} litru vandens\")\n",
    "        else:\n",
    "            print(f\"negalima ispilti {kiekis} l vandens, nes yra tik {self.dabartinis_vandens_lygis}\")\n",
    "    \n",
    "    def get_talpa(self):\n",
    "        return self.vandens_talpa\n",
    "    \n",
    "    def get_dabartinis_vandens_lygis(self):\n",
    "        return self.dabartinis_vandens_lygis\n",
    "\n",
    "    \n",
    "    \n",
    "    # def papildyti_baseina(self, papildomas_vanduo):\n",
    "    #     self.__keisti_turi(self.turis + papildomas_vanduo)\n",
    "    #     self.pildyti\n",
    "\n",
    "    # def nuleisti_baseina(self, nuleidziamas_vanduo):\n",
    "    #     self.__keisti_turi(self.turis - nuleidziamas_vanduo)\n",
    "    #     self.pildyti\n",
    "\n",
    "\n",
    "vichy_baseinas = Baseinas(900, 450)\n",
    "print(f\"Dabartine baseino talpa: {vichy_baseinas.get_talpa()} siuo metu baseinas uzpildytas {vichy_baseinas.get_dabartinis_vandens_lygis()}\")\n",
    "\n",
    "vichy_baseinas.nuleisti(100)\n",
    "vichy_baseinas.pildyti(300)\n",
    "\n",
    "print(vichy_baseinas)\n",
    "\n",
    "\n"
   ]
  },
  {
   "cell_type": "code",
   "execution_count": 131,
   "metadata": {},
   "outputs": [
    {
     "name": "stdout",
     "output_type": "stream",
     "text": [
      "Baseino talpa: 1000 litrų, šiuo metu baseinas užpildytas: 300 litrais\n",
      "Išpilta 50 litrų vandens\n",
      "Įpilta 480 litrų vandens\n",
      "730\n"
     ]
    }
   ],
   "source": [
    "class Baseinas:\n",
    "\n",
    "  def __init__(self, talpa, dabartinis_kiekis):\n",
    "    self.__talpa = talpa\n",
    "    self.__dabartinis_kiekis = dabartinis_kiekis\n",
    "\n",
    "  def __keitimas(self, kiekis):\n",
    "    self.__dabartinis_kiekis += kiekis\n",
    "\n",
    "  def pilamas_vanduo(self, kiekis):\n",
    "    if self.__dabartinis_kiekis + kiekis <= self.__talpa:\n",
    "      self.__keitimas(kiekis)\n",
    "      print(f'Įpilta {kiekis} litrų vandens')\n",
    "    else:\n",
    "      print(f'Negalima įpilti {kiekis} litrų vandens, nes viršytų talpą')\n",
    "\n",
    "  def nuleisti_vandeni(self, kiekis):\n",
    "    if self.__dabartinis_kiekis - kiekis >= 0:\n",
    "      self.__keitimas(-kiekis)\n",
    "      print(f'Išpilta {kiekis} litrų vandens')\n",
    "    else:\n",
    "      print(\n",
    "        f'Negalima išpilti {kiekis} litrų vandens, nes dabar yra tik {self.__dabartinis_kiekis} litrų'\n",
    "      )\n",
    "\n",
    "  def get_talpa(self):\n",
    "    return self.__talpa\n",
    "  \n",
    "  def get_dabartinis_kiekis(self):\n",
    "    return self.__dabartinis_kiekis\n",
    "\n",
    "\n",
    "baseinas = Baseinas(1000, 300)\n",
    "print(f'Baseino talpa: {baseinas.get_talpa()} litrų, šiuo metu baseinas užpildytas: {baseinas.get_dabartinis_kiekis()} litrais')\n",
    "\n",
    "baseinas.nuleisti_vandeni(50)\n",
    "baseinas.pilamas_vanduo(480)\n",
    "print(baseinas.get_dabartinis_kiekis())"
   ]
  },
  {
   "cell_type": "code",
   "execution_count": null,
   "metadata": {},
   "outputs": [],
   "source": [
    "class Baseinas():\n",
    "    def __init__(self, talpa, dabartinis_kiekis):\n",
    "        self.talpa = talpa\n",
    "        self.__dabartinis_kiekis = dabartinis_kiekis\n",
    "\n",
    "    def __keisti_kieki(self, naujas_kiekis):\n",
    "        if naujas_kiekis <= self.talpa and naujas_kiekis >= 0:\n",
    "            self.__dabartinis_kiekis = naujas_kiekis\n",
    "        else:\n",
    "            print('Kiekis nepakeistas') gello\n",
    "\n",
    "    def didinti_kieki(self, keiciamas_kiekis):\n",
    "        self.__keisti_kieki(self.__dabartinis_kiekis + abs(keiciamas_kiekis))\n",
    "        return self.__dabartinis_kiekis\n",
    "\n",
    "    def mazinti_kieki(self, keiciamas_kiekis):\n",
    "        self.__keisti_kieki(self.__dabartinis_kiekis - abs(keiciamas_kiekis))\n",
    "        return self.__dabartinis_kiekis\n",
    "\n",
    "    def gauti_dabartini_kieki(self):\n",
    "        return self.__dabartinis_kiekis\n",
    "\n",
    "\n",
    "vichy = Baseinas(500, 200)\n",
    "print(f\"Baseino talpa: {vichy.talpa}, dabartinis kiekis: {vichy.gauti_dabartini_kieki()}\")\n",
    "print(f\"Baseino kiekis: {vichy.didinti_kieki(300)}\")\n",
    "print(f\"Sumazintas kiekis: {vichy.mazinti_kieki(500)}\")"
   ]
  },
  {
   "cell_type": "code",
   "execution_count": 140,
   "metadata": {},
   "outputs": [
    {
     "name": "stdout",
     "output_type": "stream",
     "text": [
      "Vardas: Petras, Pavarde: Anskaitis,  Atlyginimas: 3000\n",
      "Vardas: Jonas, Pavarde: Jonaitis,  Atlyginimas: 1500\n",
      "Vardas: Jurgis, Pavarde: Grigas,  Atlyginimas: 1800\n",
      "premija: 10000\n"
     ]
    }
   ],
   "source": [
    "class Darbuotojai:\n",
    "    def __init__(self, vardas, pavarde, atlyginimas):\n",
    "        self.vardas = vardas\n",
    "        self.pavarde = pavarde\n",
    "        self.atlyginimas = atlyginimas\n",
    "\n",
    "    def informacija(self):\n",
    "        print(f\"Vardas: {self.vardas}, Pavarde: {self.pavarde},  Atlyginimas: {self.atlyginimas}\" )\n",
    "\n",
    "class Administratorius(Darbuotojai):\n",
    "     def __init__(self, vardas, pavarde, atlyginimas):\n",
    "        super().__init__(vardas, pavarde, atlyginimas)\n",
    "\n",
    "class Vadovas(Darbuotojai):\n",
    "     def __init__(self, vardas, pavarde, atlyginimas, premija):\n",
    "        super().__init__(vardas, pavarde, atlyginimas)\n",
    "        self.premija = premija\n",
    "\n",
    "     def informacija(self):\n",
    "         super().informacija\n",
    "         print(f\"premija: {self.premija}\")\n",
    "\n",
    "\n",
    "darbuotojas1 = Darbuotojai(\"Petras\", \"Anskaitis\", 3000)\n",
    "darbuotojas2 = Darbuotojai(\"Jonas\", \"Jonaitis\", 1500)\n",
    "darbuotojas3 = Administratorius(\"Jurgis\", \"Grigas\", 1800)\n",
    "vadovas = Vadovas(\"Sefuks\", \"Geruks\", 4000, 10000)\n",
    "\n",
    "darbuotojai = [darbuotojas1, darbuotojas2, darbuotojas3, vadovas]\n",
    "\n",
    "\n",
    "for darbuotojas in darbuotojai:\n",
    "    darbuotojas.informacija()\n"
   ]
  },
  {
   "cell_type": "code",
   "execution_count": 157,
   "metadata": {},
   "outputs": [
    {
     "name": "stdout",
     "output_type": "stream",
     "text": [
      "Kombainas max speed is 100km/h\n",
      "Ford max speed is 200km/h\n",
      "Ford vehicle has 4 wheels\n",
      "Dviratukas max speed is 50km/h\n",
      "Dviratukas bycicle is made from steel\n"
     ]
    }
   ],
   "source": [
    "class Vehicle:\n",
    "    def __init__(self, vehicle_name):\n",
    "        self.vehicle_name = vehicle_name\n",
    "    \n",
    "    def get_max_speed(self):\n",
    "        print(f\"{self.vehicle_name} max speed is 100km/h\")\n",
    "\n",
    "\n",
    "class Car(Vehicle):\n",
    "    def get_max_speed (self):\n",
    "        print(f\"{self.vehicle_name} max speed is 200km/h\")\n",
    "    \n",
    "    def get_number_of_wheels (self):\n",
    "        print(f\"{self.vehicle_name} vehicle has 4 wheels\")\n",
    "     \n",
    "\n",
    "class Bicycle(Vehicle):\n",
    "     def get_max_speed (self):\n",
    "        print(f\"{self.vehicle_name} max speed is 50km/h\")\n",
    "\n",
    "     def get_frame_material(self):\n",
    "        print(f\"{self.vehicle_name} bycicle is made from steel\")\n",
    "    \n",
    "\n",
    "# def info (vehicle):\n",
    "#     vehicle.get_max_speed()\n",
    "#     vehicle.get_number_of_vehicles()\n",
    "#     vehicle.get_frame_material()\n",
    "\n",
    "def info(vehicle):\n",
    "    vehicle.get_max_speed()\n",
    "    \n",
    "    if isinstance(vehicle, Car):\n",
    "        vehicle.get_number_of_wheels()\n",
    "        \n",
    "    elif isinstance(vehicle, Bicycle):\n",
    "        vehicle.get_frame_material()\n",
    "\n",
    "\n",
    "vehicle1 = Vehicle(\"Kombainas\")\n",
    "vehicle2 = Car(\"Ford\")\n",
    "vehicle3 = Bicycle(\"Dviratukas\")\n",
    "\n",
    "info(vehicle1)\n",
    "info(vehicle2)\n",
    "info(vehicle3)\n",
    "\n",
    "\n",
    "\n",
    "    "
   ]
  },
  {
   "cell_type": "code",
   "execution_count": 4,
   "metadata": {},
   "outputs": [
    {
     "name": "stdout",
     "output_type": "stream",
     "text": [
      "HiHi\n"
     ]
    }
   ],
   "source": [
    "def string_times(str, n):\n",
    "  \n",
    "  result = \"\"\n",
    "  \n",
    "  for i in range(n):\n",
    "    result += str \n",
    "  \n",
    "  \n",
    "  return result\n",
    "\n",
    "print(string_times(\"Hi\", 2))"
   ]
  },
  {
   "cell_type": "code",
   "execution_count": 1,
   "metadata": {},
   "outputs": [
    {
     "name": "stdout",
     "output_type": "stream",
     "text": [
      "Hlo\n"
     ]
    }
   ],
   "source": [
    "def string_bits(str):\n",
    "  \n",
    "  result = \"\"\n",
    "  str1 = str[::2]\n",
    "  result = result + str1\n",
    "  \n",
    "  return result\n",
    "\n",
    "print (string_bits(\"Hello\"))"
   ]
  },
  {
   "cell_type": "code",
   "execution_count": null,
   "metadata": {},
   "outputs": [],
   "source": [
    "def string_splosion(str):\n",
    "  result = \"\"\n",
    "  for i in range (len(str)):\n",
    "    result += str[:i+1]\n",
    "    \n",
    "  return result"
   ]
  },
  {
   "cell_type": "code",
   "execution_count": 3,
   "metadata": {},
   "outputs": [
    {
     "name": "stdout",
     "output_type": "stream",
     "text": [
      "0\n"
     ]
    }
   ],
   "source": [
    "def last2(str):\n",
    "  # Screen out too-short string case.\n",
    "  if len(str) < 2:\n",
    "    return 0\n",
    "  \n",
    "  # last 2 chars, can be written as str[-2:]\n",
    "  last2 = str[len(str)-2:]\n",
    "  count = 0\n",
    "  \n",
    "  # Check each substring length 2 starting at i\n",
    "  for i in range(len(str)-2):\n",
    "    sub = str[i:i+2]\n",
    "    if sub == last2:\n",
    "      count = count + 1\n",
    "\n",
    "  return count\n",
    "\n",
    "print(last2(\"mydearbaby\"))"
   ]
  },
  {
   "cell_type": "code",
   "execution_count": 22,
   "metadata": {},
   "outputs": [
    {
     "name": "stdout",
     "output_type": "stream",
     "text": [
      "27\n"
     ]
    }
   ],
   "source": [
    "def array_count9(nums):\n",
    "  count = 0\n",
    "  for num in nums:\n",
    "    if num == 9:\n",
    "      count = count + 9\n",
    "\n",
    "  return count\n",
    "  \n",
    "print(array_count9([3,2,9,4,7, 9, 9,1]))"
   ]
  },
  {
   "cell_type": "code",
   "execution_count": 23,
   "metadata": {},
   "outputs": [
    {
     "name": "stdout",
     "output_type": "stream",
     "text": [
      "True\n",
      "False\n"
     ]
    }
   ],
   "source": [
    "def array_front9(nums):\n",
    "    n = min(len(nums), 4)\n",
    "    for i in range(n):\n",
    "        if nums[i] == 9:\n",
    "            return True\n",
    "    return False\n",
    "\n",
    "print(array_front9([4,3,2,9,3]))\n",
    "print(array_front9([5,4,3,1,9]))"
   ]
  },
  {
   "cell_type": "code",
   "execution_count": null,
   "metadata": {},
   "outputs": [],
   "source": [
    "def string_match(a, b):\n",
    "  shorter = min(len(a), len(b))\n",
    "  count = 0\n",
    "\n",
    "  for i in range(shorter-1):\n",
    "    a_sub = a[i:i+2]\n",
    "    b_sub = b[i:i+2]\n",
    "    if a_sub == b_sub:\n",
    "      count += 1\n",
    "    \n",
    "  return count\n",
    "\n"
   ]
  },
  {
   "cell_type": "code",
   "execution_count": null,
   "metadata": {},
   "outputs": [],
   "source": [
    "def double_char(str):\n",
    "  string = \"\"\n",
    "  for letter in str:\n",
    "    string = string + letter*2\n",
    "  \n",
    "    return string\n",
    "    \n"
   ]
  }
 ],
 "metadata": {
  "kernelspec": {
   "display_name": "Python 3",
   "language": "python",
   "name": "python3"
  },
  "language_info": {
   "codemirror_mode": {
    "name": "ipython",
    "version": 3
   },
   "file_extension": ".py",
   "mimetype": "text/x-python",
   "name": "python",
   "nbconvert_exporter": "python",
   "pygments_lexer": "ipython3",
   "version": "3.11.3"
  },
  "orig_nbformat": 4
 },
 "nbformat": 4,
 "nbformat_minor": 2
}
