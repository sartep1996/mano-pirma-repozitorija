{
 "cells": [
  {
   "cell_type": "code",
   "execution_count": 1,
   "metadata": {},
   "outputs": [
    {
     "name": "stdout",
     "output_type": "stream",
     "text": [
      "[11, 12, 13]\n"
     ]
    }
   ],
   "source": [
    "skaiciai = [5, 6, 7, 8, 9, 10, 11, 12, 13]\n",
    "\n",
    "\n",
    "didesni_skaiciai = list(filter(lambda skaicius: skaicius > 10, skaiciai))\n",
    "print(didesni_skaiciai)"
   ]
  },
  {
   "cell_type": "code",
   "execution_count": 10,
   "metadata": {},
   "outputs": [
    {
     "name": "stdout",
     "output_type": "stream",
     "text": [
      "81\n"
     ]
    }
   ],
   "source": [
    "skaiciai = [5, 6, 7, 8, 9, 10, 11, 12, 13]\n",
    "\n",
    "\n",
    "vidurkis = lambda num: sum(num)\n",
    "print(vidurkis(skaiciai))"
   ]
  },
  {
   "cell_type": "code",
   "execution_count": 13,
   "metadata": {},
   "outputs": [
    {
     "name": "stdout",
     "output_type": "stream",
     "text": [
      "15\n"
     ]
    }
   ],
   "source": [
    "skaiciai = [15, 11, 12]\n",
    "did_skaicius = lambda skaicius: max(skaiciai) \n",
    "print(did_skaicius(skaiciai))"
   ]
  },
  {
   "cell_type": "code",
   "execution_count": 15,
   "metadata": {},
   "outputs": [
    {
     "name": "stdout",
     "output_type": "stream",
     "text": [
      "6.0\n"
     ]
    }
   ],
   "source": [
    "def calculate_average (*args):\n",
    "    sum = 0 \n",
    "    for arg in args:\n",
    "        sum = sum + arg\n",
    "        finalsum = sum/len(args)\n",
    "    return finalsum\n",
    "\n",
    "\n",
    "print(calculate_average(3, 7, 8))"
   ]
  },
  {
   "cell_type": "code",
   "execution_count": 25,
   "metadata": {},
   "outputs": [
    {
     "name": "stdout",
     "output_type": "stream",
     "text": [
      " hello my dear\n"
     ]
    }
   ],
   "source": [
    "def merge_strings (*args):\n",
    "    string_list = \" \"\n",
    "    for arg in args:\n",
    "        string_list = string_list + arg\n",
    "    if len(args) == 0:\n",
    "        return \"\"\n",
    "    return string_list\n",
    "\n",
    "\n",
    "print(merge_strings(\"hello \", \"my \", \"dear\"))\n"
   ]
  },
  {
   "cell_type": "code",
   "execution_count": 41,
   "metadata": {},
   "outputs": [
    {
     "name": "stdout",
     "output_type": "stream",
     "text": [
      "Akmuo: StoneBrolis: BrotherCepelinai: Zeppelin\n"
     ]
    }
   ],
   "source": [
    "def create_dictionarry (**kwargs):\n",
    "    result = \"\"\n",
    "    for key, value in kwargs.items():\n",
    "        result = result + f\"{key}: {value}\\n\"\n",
    "    return result\n",
    "\n",
    "print((create_dictionarry(Akmuo = \"Stone\", Brolis = \"Brother\", Cepelinai = \"Zeppelin\")))"
   ]
  },
  {
   "cell_type": "code",
   "execution_count": 37,
   "metadata": {},
   "outputs": [
    {
     "name": "stdout",
     "output_type": "stream",
     "text": [
      "vardas: Jonas\n",
      "amzius: 30\n",
      "miestas: Vilnius\n",
      "\n"
     ]
    }
   ],
   "source": [
    "\n",
    "# Isveda items stringe (nepadaro zodyno)\n",
    "\n",
    "def spausdinti_kwargs(**kwargs):\n",
    "    result= \"\"\n",
    "    for key, value in kwargs.items():\n",
    "        result = result + f\"{key }: {value }\\n\"\n",
    "    return result\n",
    "\n",
    "print((spausdinti_kwargs(vardas=\"Jonas\", amzius=30, miestas=\"Vilnius\")))"
   ]
  },
  {
   "cell_type": "code",
   "execution_count": 42,
   "metadata": {},
   "outputs": [
    {
     "name": "stdout",
     "output_type": "stream",
     "text": [
      "{'vardas': 'Jonas', 'amzius': 30, 'miestas': 'Vilnius'}\n"
     ]
    }
   ],
   "source": [
    "# Padaro zodyna\n",
    "\n",
    "def spausdinti_kwargs(**kwargs):\n",
    "    result= {}\n",
    "    for key, value in kwargs.items():\n",
    "        result [key] = value\n",
    "    return result\n",
    "\n",
    "print((spausdinti_kwargs(vardas=\"Jonas\", amzius=30, miestas=\"Vilnius\")))"
   ]
  },
  {
   "cell_type": "code",
   "execution_count": 44,
   "metadata": {},
   "outputs": [
    {
     "name": "stdout",
     "output_type": "stream",
     "text": [
      "Name: John\n",
      "Age: 30\n",
      "funny\n",
      "great\n",
      "amazing\n"
     ]
    }
   ],
   "source": [
    "def print_details(*args, **kwargs,):\n",
    "    for key, value in kwargs.items():\n",
    "        print (f\"{key}: {value}\")\n",
    "    for arg in args:\n",
    "        print(arg)\n",
    "\n",
    "print_details(\"funny\", \"great\", \"amazing\", Name = \"John\", Age = \"30\")\n"
   ]
  },
  {
   "cell_type": "code",
   "execution_count": 45,
   "metadata": {},
   "outputs": [
    {
     "name": "stdout",
     "output_type": "stream",
     "text": [
      "True\n"
     ]
    }
   ],
   "source": [
    "def parrot_trouble(talking, hour):\n",
    "  return (talking and (hour < 7 or hour > 20))\n",
    "\n",
    "print(parrot_trouble(True, 6))"
   ]
  },
  {
   "cell_type": "code",
   "execution_count": 46,
   "metadata": {},
   "outputs": [
    {
     "name": "stdout",
     "output_type": "stream",
     "text": [
      "False\n"
     ]
    }
   ],
   "source": [
    "def makes10(a, b):\n",
    "  if a == 10 or b == 10 and a + b == 10:\n",
    "    return True\n",
    "  else:\n",
    "    return False\n",
    "  \n",
    "print(makes10(9, 9))\n"
   ]
  },
  {
   "cell_type": "code",
   "execution_count": null,
   "metadata": {},
   "outputs": [],
   "source": [
    "# def near_hundred(n):\n",
    "#   if n > 90 and n < 100 or n > 100 and n < 200:\n",
    "#     return True\n",
    "#   else:\n",
    "#     return False\n",
    "\n",
    "\n",
    "def near_hundred(n):\n",
    "  if abs(100 - n) <= 10 or abs(200 - n) <= 10:\n",
    "    return True\n",
    "  else:\n",
    "    return False"
   ]
  },
  {
   "attachments": {},
   "cell_type": "markdown",
   "metadata": {},
   "source": [
    "# def pos_neg(a, b, negative):\n",
    "#   if a < 0 or b > 0 and a > 0 or b < 0\n",
    "#     return True\n",
    "#   elif a < 0 and b < 0:\n",
    "#     return True\n",
    "#   else:\n",
    "#     return False\n",
    "    \n",
    "    \n",
    "    \n",
    "def pos_neg(a, b, negative):\n",
    "  if negative:\n",
    "    return (a < 0 and b < 0)\n",
    "  else:\n",
    "    return ((a < 0 and b > 0) or (a > 0 and b < 0))"
   ]
  },
  {
   "cell_type": "code",
   "execution_count": null,
   "metadata": {},
   "outputs": [],
   "source": [
    "# def not_string(str):\n",
    "#   if \"not\" not in str:\n",
    "#     str = \"not \" + str\n",
    "#     return str\n",
    "#   else: \n",
    "#     return str\n",
    "\n",
    "def not_string(str):\n",
    "  if len(str) >= 3 and str[:3] == \"not\":\n",
    "    return str\n",
    "  else:\n",
    "    return \"not \" + str"
   ]
  },
  {
   "cell_type": "code",
   "execution_count": null,
   "metadata": {},
   "outputs": [],
   "source": [
    "# def missing_char(str, n):\n",
    "#   index_remove = n \n",
    "#   if n >= 0:\n",
    "#       final_word = str[index_remove] + str[index_remove + 1]\n",
    "#   return final_word\n",
    "\n",
    "\n",
    "def missing_char(str, n):\n",
    "  index_remove = n \n",
    "  if n >= 0:\n",
    "    final_word = str[:index_remove] + str[index_remove + 1:]\n",
    "  else:\n",
    "    final_word = str\n",
    "  return final_word"
   ]
  },
  {
   "cell_type": "code",
   "execution_count": null,
   "metadata": {},
   "outputs": [],
   "source": [
    "# def front_back(str):\n",
    "#   str = str.replace([0], [-1] and [-1], [0])\n",
    "# return str\n",
    "\n",
    "def front_back(str):\n",
    "   if len(str) > 1:\n",
    "      str = str[-1] + str[1:-1] + str[0]\n",
    "   return str"
   ]
  }
 ],
 "metadata": {
  "kernelspec": {
   "display_name": "Python 3",
   "language": "python",
   "name": "python3"
  },
  "language_info": {
   "codemirror_mode": {
    "name": "ipython",
    "version": 3
   },
   "file_extension": ".py",
   "mimetype": "text/x-python",
   "name": "python",
   "nbconvert_exporter": "python",
   "pygments_lexer": "ipython3",
   "version": "3.11.3"
  },
  "orig_nbformat": 4
 },
 "nbformat": 4,
 "nbformat_minor": 2
}
