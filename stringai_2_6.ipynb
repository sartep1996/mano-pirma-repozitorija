{
 "cells": [
  {
   "cell_type": "code",
   "execution_count": 10,
   "metadata": {},
   "outputs": [
    {
     "name": "stdout",
     "output_type": "stream",
     "text": [
      "hello\n"
     ]
    }
   ],
   "source": [
    "print(\"hello\")\n"
   ]
  },
  {
   "cell_type": "code",
   "execution_count": 11,
   "metadata": {},
   "outputs": [
    {
     "name": "stdout",
     "output_type": "stream",
     "text": [
      "['pica', 'kebabas', 'koldunai', 'cepelinai', 'blynai']\n"
     ]
    }
   ],
   "source": [
    "list = ['pica', 'kebabas', 'koldunai', 'cepelinai', 'blynai']\n",
    "print(list)"
   ]
  },
  {
   "cell_type": "code",
   "execution_count": 12,
   "metadata": {},
   "outputs": [
    {
     "name": "stdout",
     "output_type": "stream",
     "text": [
      "pica\n",
      "kebabas\n",
      "koldunai\n"
     ]
    }
   ],
   "source": [
    "print(list[0])\n",
    "print(list[1])\n",
    "print(list[2])"
   ]
  },
  {
   "cell_type": "code",
   "execution_count": 13,
   "metadata": {},
   "outputs": [
    {
     "name": "stdout",
     "output_type": "stream",
     "text": [
      "['pica', 'kebabas', 'koldunai', 'cepelinai']\n"
     ]
    }
   ],
   "source": [
    "print(list[:4])"
   ]
  },
  {
   "cell_type": "code",
   "execution_count": 14,
   "metadata": {},
   "outputs": [
    {
     "name": "stdout",
     "output_type": "stream",
     "text": [
      "['cepelinai', 'blynai']\n"
     ]
    }
   ],
   "source": [
    "print(list[3:])"
   ]
  },
  {
   "cell_type": "code",
   "execution_count": 15,
   "metadata": {},
   "outputs": [
    {
     "name": "stdout",
     "output_type": "stream",
     "text": [
      "['kebabas', 'koldunai', 'cepelinai']\n"
     ]
    }
   ],
   "source": [
    "print(list[1:4])"
   ]
  },
  {
   "cell_type": "code",
   "execution_count": 16,
   "metadata": {},
   "outputs": [
    {
     "name": "stdout",
     "output_type": "stream",
     "text": [
      "['pica', 'koldunai', 'blynai']\n"
     ]
    }
   ],
   "source": [
    "print(list[::2])"
   ]
  },
  {
   "cell_type": "code",
   "execution_count": 17,
   "metadata": {},
   "outputs": [
    {
     "name": "stdout",
     "output_type": "stream",
     "text": [
      "['pica', 'kebabas', 'koldunai', 'cepelinai', 'blynai', 'ledai']\n"
     ]
    }
   ],
   "source": [
    "list.append('ledai')\n",
    "print(list)"
   ]
  },
  {
   "cell_type": "code",
   "execution_count": 18,
   "metadata": {},
   "outputs": [
    {
     "name": "stdout",
     "output_type": "stream",
     "text": [
      "['pica', 'kebabas', 'koldunai', 'bandele', 'cepelinai', 'blynai', 'ledai']\n"
     ]
    }
   ],
   "source": [
    "list.insert(3, 'bandele')\n",
    "print(list)"
   ]
  },
  {
   "cell_type": "code",
   "execution_count": 19,
   "metadata": {},
   "outputs": [
    {
     "name": "stdout",
     "output_type": "stream",
     "text": [
      "['pica', 'bulvytes', 'koldunai', 'bandele', 'cepelinai', 'blynai', 'ledai']\n"
     ]
    }
   ],
   "source": [
    "list[1] = 'bulvytes'\n",
    "print(list)"
   ]
  },
  {
   "cell_type": "code",
   "execution_count": 20,
   "metadata": {},
   "outputs": [
    {
     "name": "stdout",
     "output_type": "stream",
     "text": [
      "['bulvytes', 'koldunai', 'bandele', 'cepelinai', 'blynai', 'ledai']\n"
     ]
    }
   ],
   "source": [
    "list.remove('pica')\n",
    "print(list)"
   ]
  },
  {
   "cell_type": "code",
   "execution_count": 21,
   "metadata": {},
   "outputs": [
    {
     "name": "stdout",
     "output_type": "stream",
     "text": [
      "['bulvytes', 'bandele', 'cepelinai', 'blynai', 'ledai']\n"
     ]
    }
   ],
   "source": [
    "list.remove('koldunai')\n",
    "print(list)"
   ]
  },
  {
   "cell_type": "code",
   "execution_count": 22,
   "metadata": {},
   "outputs": [
    {
     "name": "stdout",
     "output_type": "stream",
     "text": [
      "blynai\n"
     ]
    }
   ],
   "source": [
    "\n",
    "print(list[3])"
   ]
  },
  {
   "cell_type": "code",
   "execution_count": 23,
   "metadata": {},
   "outputs": [
    {
     "name": "stdout",
     "output_type": "stream",
     "text": [
      "['ledai', 'blynai', 'cepelinai', 'bandele', 'bulvytes']\n"
     ]
    }
   ],
   "source": [
    "list.reverse()\n",
    "print(list)"
   ]
  },
  {
   "cell_type": "code",
   "execution_count": 24,
   "metadata": {},
   "outputs": [
    {
     "name": "stdout",
     "output_type": "stream",
     "text": [
      "5\n"
     ]
    }
   ],
   "source": [
    "print(len(list))"
   ]
  },
  {
   "cell_type": "code",
   "execution_count": 25,
   "metadata": {},
   "outputs": [
    {
     "name": "stdout",
     "output_type": "stream",
     "text": [
      "True\n"
     ]
    }
   ],
   "source": [
    "print('blynai' in list)"
   ]
  },
  {
   "cell_type": "code",
   "execution_count": 26,
   "metadata": {},
   "outputs": [
    {
     "name": "stdout",
     "output_type": "stream",
     "text": [
      "['ledai', 'blynai', 'cepelinai', 'bandele', 'bulvytes']\n"
     ]
    }
   ],
   "source": [
    "\n",
    "print(list)"
   ]
  },
  {
   "cell_type": "code",
   "execution_count": 27,
   "metadata": {},
   "outputs": [
    {
     "name": "stdout",
     "output_type": "stream",
     "text": [
      "['ledai', 'obuoliai', 'cepelinai', 'bandele', 'bulvytes']\n"
     ]
    }
   ],
   "source": [
    "list[1] = 'obuoliai'\n",
    "print(list)"
   ]
  },
  {
   "cell_type": "code",
   "execution_count": 28,
   "metadata": {},
   "outputs": [
    {
     "name": "stdout",
     "output_type": "stream",
     "text": [
      "['ledai', 'obuoliai', 'bandele', 'bulvytes']\n"
     ]
    }
   ],
   "source": [
    "del list[2]\n",
    "print(list)"
   ]
  },
  {
   "cell_type": "code",
   "execution_count": null,
   "metadata": {},
   "outputs": [],
   "source": []
  },
  {
   "cell_type": "code",
   "execution_count": null,
   "metadata": {},
   "outputs": [],
   "source": []
  },
  {
   "cell_type": "code",
   "execution_count": null,
   "metadata": {},
   "outputs": [],
   "source": []
  },
  {
   "cell_type": "code",
   "execution_count": 29,
   "metadata": {},
   "outputs": [
    {
     "name": "stdout",
     "output_type": "stream",
     "text": [
      "{'Dora': 3, 'Odis': 5, 'Budis': 10}\n"
     ]
    }
   ],
   "source": [
    "augintiniu_vardai = {'Dora': 3, 'Odis': 5, 'Budis': 10}\n",
    "print(augintiniu_vardai)"
   ]
  },
  {
   "cell_type": "code",
   "execution_count": 30,
   "metadata": {},
   "outputs": [
    {
     "name": "stdout",
     "output_type": "stream",
     "text": [
      "5\n"
     ]
    }
   ],
   "source": [
    "print(augintiniu_vardai['Odis'])"
   ]
  },
  {
   "cell_type": "code",
   "execution_count": 31,
   "metadata": {},
   "outputs": [
    {
     "name": "stdout",
     "output_type": "stream",
     "text": [
      "{'Dora': 3, 'Odis': 5, 'Budis': 10, 'Pukis': 7}\n"
     ]
    }
   ],
   "source": [
    "augintiniu_vardai['Pukis'] = 7\n",
    "print(augintiniu_vardai)"
   ]
  },
  {
   "cell_type": "code",
   "execution_count": 32,
   "metadata": {},
   "outputs": [
    {
     "name": "stdout",
     "output_type": "stream",
     "text": [
      "{'Dora': 3, 'Odis': 6, 'Budis': 10, 'Pukis': 7}\n"
     ]
    }
   ],
   "source": [
    "augintiniu_vardai['Odis'] = 6\n",
    "print(augintiniu_vardai)"
   ]
  },
  {
   "cell_type": "code",
   "execution_count": 33,
   "metadata": {},
   "outputs": [
    {
     "name": "stdout",
     "output_type": "stream",
     "text": [
      "{'Odis': 6, 'Budis': 10, 'Pukis': 7}\n"
     ]
    }
   ],
   "source": [
    "del augintiniu_vardai['Dora']\n",
    "print(augintiniu_vardai)"
   ]
  },
  {
   "cell_type": "code",
   "execution_count": 34,
   "metadata": {},
   "outputs": [
    {
     "name": "stdout",
     "output_type": "stream",
     "text": [
      "dict_values([6, 10, 7])\n"
     ]
    }
   ],
   "source": [
    "reiksmes = augintiniu_vardai.values()\n",
    "print(reiksmes)"
   ]
  },
  {
   "cell_type": "code",
   "execution_count": 35,
   "metadata": {},
   "outputs": [
    {
     "name": "stdout",
     "output_type": "stream",
     "text": [
      "dict_keys(['Odis', 'Budis', 'Pukis'])\n"
     ]
    }
   ],
   "source": [
    "raktai = augintiniu_vardai.keys()\n",
    "print(raktai)"
   ]
  },
  {
   "cell_type": "code",
   "execution_count": 36,
   "metadata": {},
   "outputs": [
    {
     "name": "stdout",
     "output_type": "stream",
     "text": [
      "dict_items([('Odis', 6), ('Budis', 10), ('Pukis', 7)])\n"
     ]
    }
   ],
   "source": [
    "visas = augintiniu_vardai.items()\n",
    "print(visas)"
   ]
  },
  {
   "cell_type": "code",
   "execution_count": 37,
   "metadata": {},
   "outputs": [
    {
     "name": "stdout",
     "output_type": "stream",
     "text": [
      "10\n"
     ]
    }
   ],
   "source": [
    "gautas = augintiniu_vardai.get('Budis')\n",
    "print(gautas)"
   ]
  },
  {
   "cell_type": "code",
   "execution_count": 38,
   "metadata": {},
   "outputs": [
    {
     "name": "stdout",
     "output_type": "stream",
     "text": [
      "1\n",
      "2\n",
      "3\n",
      "4\n",
      "5\n",
      "6\n",
      "7\n",
      "8\n",
      "9\n",
      "10\n"
     ]
    }
   ],
   "source": [
    "number = 1\n",
    "while number <=10:\n",
    "    print(number)\n",
    "    number = number + 1"
   ]
  },
  {
   "cell_type": "code",
   "execution_count": 39,
   "metadata": {},
   "outputs": [
    {
     "ename": "SyntaxError",
     "evalue": "'function call' is an illegal expression for augmented assignment (2192649419.py, line 3)",
     "output_type": "error",
     "traceback": [
      "\u001b[0;36m  Cell \u001b[0;32mIn[39], line 3\u001b[0;36m\u001b[0m\n\u001b[0;31m    number(g) -= 1\u001b[0m\n\u001b[0m    ^\u001b[0m\n\u001b[0;31mSyntaxError\u001b[0m\u001b[0;31m:\u001b[0m 'function call' is an illegal expression for augmented assignment\n"
     ]
    }
   ],
   "source": [
    "number = 5 \n",
    "while number >= -10:\n",
    "    number(g) -= 1\n",
    "    if number == -5:\n",
    "        break\n",
    "    elif number == 0:\n",
    "        continue\n",
    "    print(number)\n"
   ]
  },
  {
   "cell_type": "code",
   "execution_count": null,
   "metadata": {},
   "outputs": [],
   "source": []
  },
  {
   "cell_type": "code",
   "execution_count": null,
   "metadata": {},
   "outputs": [
    {
     "name": "stdout",
     "output_type": "stream",
     "text": [
      "('ledzeppelin', 'aerosmith', 'onerepublic')\n"
     ]
    }
   ],
   "source": [
    "grupes_tuple = (\"ledzeppelin\", \"aerosmith\", \"onerepublic\")\n",
    "print(grupes_tuple)"
   ]
  },
  {
   "cell_type": "code",
   "execution_count": null,
   "metadata": {},
   "outputs": [
    {
     "name": "stdout",
     "output_type": "stream",
     "text": [
      "('queen', 'redhotchilipeppers', 'U2')\n"
     ]
    }
   ],
   "source": [
    "grupes2_tuple = (\"queen\", \"redhotchilipeppers\", \"U2\")\n",
    "print(grupes2_tuple)"
   ]
  },
  {
   "cell_type": "code",
   "execution_count": 41,
   "metadata": {},
   "outputs": [
    {
     "name": "stdout",
     "output_type": "stream",
     "text": [
      "('ledzeppelin', 'aerosmith', 'onerepublic', 'queen', 'redhotchilipeppers', 'U2')\n"
     ]
    }
   ],
   "source": [
    "grupes_tuple = (\"ledzeppelin\", \"aerosmith\", \"onerepublic\")\n",
    "\n",
    "grupes2_tuple = (\"queen\", \"redhotchilipeppers\", \"U2\")\n",
    "\n",
    "abigrupes_tuple = grupes_tuple + grupes2_tuple\n",
    "print(abigrupes_tuple)"
   ]
  },
  {
   "cell_type": "code",
   "execution_count": 49,
   "metadata": {},
   "outputs": [
    {
     "name": "stdout",
     "output_type": "stream",
     "text": [
      "1\n"
     ]
    }
   ],
   "source": [
    "grupes_tuple = (\"ledzeppelin\", \"aerosmith\", \"onerepublic\")\n",
    "print(grupes_tuple.count('aerosmith'))"
   ]
  },
  {
   "cell_type": "code",
   "execution_count": 50,
   "metadata": {},
   "outputs": [
    {
     "name": "stdout",
     "output_type": "stream",
     "text": [
      "1\n"
     ]
    }
   ],
   "source": [
    "grupes_tuple = (\"ledzeppelin\", \"aerosmith\", \"onerepublic\")\n",
    "print(grupes_tuple.index('aerosmith'))"
   ]
  },
  {
   "cell_type": "code",
   "execution_count": 51,
   "metadata": {},
   "outputs": [
    {
     "name": "stdout",
     "output_type": "stream",
     "text": [
      "True\n"
     ]
    }
   ],
   "source": [
    "grupes_tuple = (\"ledzeppelin\", \"aerosmith\", \"onerepublic\")\n",
    "print ('aerosmith' in grupes_tuple)"
   ]
  },
  {
   "cell_type": "code",
   "execution_count": 52,
   "metadata": {},
   "outputs": [
    {
     "name": "stdout",
     "output_type": "stream",
     "text": [
      "{1, 2, 3, 4, 5, 6}\n"
     ]
    }
   ],
   "source": [
    "numbers = {1, 2, 3, 4, 5, 6}\n",
    "print(numbers)"
   ]
  },
  {
   "cell_type": "code",
   "execution_count": 54,
   "metadata": {},
   "outputs": [
    {
     "name": "stdout",
     "output_type": "stream",
     "text": [
      "{1, 2, 3, 4, 5, 6, 7}\n"
     ]
    }
   ],
   "source": [
    "numbers.add(7)\n",
    "print(numbers)"
   ]
  },
  {
   "cell_type": "code",
   "execution_count": 55,
   "metadata": {},
   "outputs": [
    {
     "name": "stdout",
     "output_type": "stream",
     "text": [
      "{9, 10, 11}\n"
     ]
    }
   ],
   "source": [
    "numbers2 = {8, 9, 10, 11}\n",
    "numbers2.remove(8)\n",
    "print(numbers2)"
   ]
  },
  {
   "cell_type": "code",
   "execution_count": 56,
   "metadata": {},
   "outputs": [
    {
     "name": "stdout",
     "output_type": "stream",
     "text": [
      "{1, 2, 3, 4, 5, 6, 7, 9, 10, 11}\n"
     ]
    }
   ],
   "source": [
    "numbers3 = numbers.union(numbers2)\n",
    "print(numbers3)"
   ]
  },
  {
   "cell_type": "code",
   "execution_count": 59,
   "metadata": {},
   "outputs": [
    {
     "name": "stdout",
     "output_type": "stream",
     "text": [
      "{1, 2, 3, 4, 5, 6}\n"
     ]
    }
   ],
   "source": [
    "numbers = {1, 2, 3, 4, 5, 6}\n",
    "numbers2 = {8, 9, 10, 11}\n",
    "numbers4 = numbers.difference(numbers2)\n",
    "print(numbers4)"
   ]
  },
  {
   "cell_type": "code",
   "execution_count": 61,
   "metadata": {},
   "outputs": [
    {
     "name": "stdout",
     "output_type": "stream",
     "text": [
      "{8, 9, 10, 11}\n"
     ]
    }
   ],
   "source": [
    "numbers = {1, 2, 3, 4, 5, 6}\n",
    "numbers2 = {8, 9, 10, 11}\n",
    "numbers4 = numbers2.difference(numbers)\n",
    "print(numbers4)"
   ]
  },
  {
   "cell_type": "code",
   "execution_count": 62,
   "metadata": {},
   "outputs": [
    {
     "name": "stdout",
     "output_type": "stream",
     "text": [
      "{64, 81, 100, 121}\n"
     ]
    }
   ],
   "source": [
    "numbers = {1, 2, 3, 4, 5, 6}\n",
    "numbers2 = {8, 9, 10, 11}\n",
    "numbers4 = numbers2.difference(numbers)\n",
    "numberssquare = {x**2 for x in numbers4}\n",
    "print(numberssquare)"
   ]
  },
  {
   "cell_type": "code",
   "execution_count": 7,
   "metadata": {},
   "outputs": [
    {
     "name": "stdout",
     "output_type": "stream",
     "text": [
      "5050\n"
     ]
    }
   ],
   "source": [
    "number = 100\n",
    "\n",
    "sum = 0\n",
    "for num in range(1, number+1):\n",
    "    sum = sum + num\n",
    "    \n",
    "print(sum)"
   ]
  },
  {
   "cell_type": "code",
   "execution_count": 4,
   "metadata": {},
   "outputs": [
    {
     "name": "stdout",
     "output_type": "stream",
     "text": [
      "[1, 2, 0, 0]\n"
     ]
    }
   ],
   "source": [
    "data = [1, 2, -3, -4]\n",
    "for ind, num in enumerate(data):\n",
    "    if num <0:\n",
    "        data[ind] = 0 \n",
    "print(data)\n"
   ]
  },
  {
   "cell_type": "code",
   "execution_count": null,
   "metadata": {},
   "outputs": [],
   "source": [
    "data = [1, 2, -3, -4]\n",
    "\n",
    "for ind in range(len(data)):\n",
    "    if data[ind] < 0:\n",
    "        data[ind] = 0\n",
    "\n",
    "print(data)"
   ]
  },
  {
   "cell_type": "code",
   "execution_count": 6,
   "metadata": {},
   "outputs": [
    {
     "name": "stdout",
     "output_type": "stream",
     "text": [
      "  A B C D E F G H \n",
      "1 2 3 4 5 6 7 8 "
     ]
    }
   ],
   "source": [
    "stulpeliai = list(\"ABCDEFGH\")\n",
    "eilutes = list(range(1, 9))\n",
    "\n",
    "print(\"  \", end=\"\")\n",
    "for raide in stulpeliai:\n",
    "    print(raide, end=\" \")\n",
    "print(\"\")\n",
    "for eil_nr in eilutes:\n",
    "    print(eil_nr, end=\" \")"
   ]
  },
  {
   "cell_type": "code",
   "execution_count": 8,
   "metadata": {},
   "outputs": [
    {
     "name": "stdout",
     "output_type": "stream",
     "text": [
      "  A B C D E F G H \n",
      "1 Juoda  Balta Juoda  Balta Juoda  Balta Juoda  Balta \n",
      "2 Balta Juoda  Balta Juoda  Balta Juoda  Balta Juoda  \n",
      "3 Juoda  Balta Juoda  Balta Juoda  Balta Juoda  Balta \n",
      "4 Balta Juoda  Balta Juoda  Balta Juoda  Balta Juoda  \n",
      "5 Juoda  Balta Juoda  Balta Juoda  Balta Juoda  Balta \n",
      "6 Balta Juoda  Balta Juoda  Balta Juoda  Balta Juoda  \n",
      "7 Juoda  Balta Juoda  Balta Juoda  Balta Juoda  Balta \n",
      "8 Balta Juoda  Balta Juoda  Balta Juoda  Balta Juoda  \n"
     ]
    }
   ],
   "source": [
    "stulpeliai = list(\"ABCDEFGH\")\n",
    "eilutes = list(range(1, 9))\n",
    "\n",
    "print(\"  \", end=\"\")\n",
    "for raide in stulpeliai:\n",
    "    print(raide, end=\" \")\n",
    "print(\"\")\n",
    "for eil_nr in eilutes:\n",
    "    print(eil_nr, end=\" \")\n",
    "    for stulp_eil_nr, raide in enumerate(stulpeliai):\n",
    "        if (eil_nr % 2 == 0 and stulp_eil_nr % 2 == 0) or \\\n",
    "           (eil_nr % 2 == 1 and stulp_eil_nr % 2 == 1):\n",
    "            print('Balta', end=\" \")\n",
    "        else:\n",
    "            print(\"Juoda \", end=\" \")\n",
    "    print(\"\")"
   ]
  },
  {
   "cell_type": "code",
   "execution_count": 81,
   "metadata": {},
   "outputs": [
    {
     "name": "stdout",
     "output_type": "stream",
     "text": [
      "1\n",
      "1 2 3 4 5 6 7 8 9 10 2\n",
      "1 2 3 4 5 6 7 8 9 10 3\n",
      "1 2 3 4 5 6 7 8 9 10 4\n",
      "1 2 3 4 5 6 7 8 9 10 5\n",
      "1 2 3 4 5 6 7 8 9 10 6\n",
      "1 2 3 4 5 6 7 8 9 10 7\n",
      "1 2 3 4 5 6 7 8 9 10 8\n",
      "1 2 3 4 5 6 7 8 9 10 9\n",
      "1 2 3 4 5 6 7 8 9 10 10\n",
      "1 2 3 4 5 6 7 8 9 10 "
     ]
    }
   ],
   "source": [
    "grid = ['X']\n",
    "\n",
    "\n",
    "columns = list(range(1, 11))\n",
    "rows = list(range(1,11))\n",
    "\n",
    "for column in columns:\n",
    "    print (column)\n",
    "    for row in rows:\n",
    "        print(row, end=\" \")\n",
    "\n",
    "# for element in grid:\n",
    "#     for element in grid:\n",
    "#         print(element, element)\n"
   ]
  },
  {
   "cell_type": "code",
   "execution_count": 38,
   "metadata": {},
   "outputs": [
    {
     "name": "stdout",
     "output_type": "stream",
     "text": [
      "  A B C D E F G H \n",
      "1   ■   ■   ■   ■ \n",
      "2 ■   ■   ■   ■   \n",
      "3   ■   ■   ■   ■ \n",
      "4 ■   ■   ■   ■   \n",
      "5   ■   ■   ■   ■ \n",
      "6 ■   ■   ■   ■   \n",
      "7   ■   ■   ■   ■ \n",
      "8 ■   ■   ■   ■   \n"
     ]
    }
   ],
   "source": [
    "stulpeliai = list(\"ABCDEFGH\")\n",
    "eilutes = list(range(1, 9))\n",
    "\n",
    "print(\"  \", end=\"\")\n",
    "for raide in stulpeliai:\n",
    "    print(raide, end=\" \")\n",
    "print(\"\")\n",
    "for eil_nr in eilutes:\n",
    "    print(eil_nr, end=\" \")\n",
    "    for stulp_eil_nr, raide in enumerate(stulpeliai):\n",
    "        if (eil_nr % 2 == 0 and stulp_eil_nr % 2 == 0) or \\\n",
    "           (eil_nr % 2 == 1 and stulp_eil_nr % 2 == 1):\n",
    "            print('\\u25A0', end=\" \")\n",
    "        else:\n",
    "            print(\" \", end=\" \")\n",
    "    print(\"\")"
   ]
  },
  {
   "cell_type": "code",
   "execution_count": 62,
   "metadata": {},
   "outputs": [
    {
     "name": "stdout",
     "output_type": "stream",
     "text": [
      "XXXXXX\n",
      "X\n",
      "X\n",
      "X\n",
      "X\n"
     ]
    }
   ],
   "source": [
    "grid = [\"X\"]\n",
    "\n",
    "for element in range(5):\n",
    "    print(grid[0], end=\"\")\n",
    "for element2 in range(5):\n",
    "    print(grid[0])\n",
    "    # for columnum,  in grid:\n",
    "    #     # if (element % 2 == 0 and element % 2 == 0) or \\\n",
    "    #     # (element % 2 == 1 and element % 2 == 0):\n",
    "    #         print(element, element )"
   ]
  },
  {
   "cell_type": "code",
   "execution_count": 66,
   "metadata": {},
   "outputs": [
    {
     "name": "stdout",
     "output_type": "stream",
     "text": [
      "XXXXX\n",
      "XXXXX\n",
      "XXXXX\n",
      "XXXXX\n",
      "XXXXX\n"
     ]
    }
   ],
   "source": [
    "grid_sym = \"X\"\n",
    "\n",
    "rows = 5\n",
    "columns = 5\n",
    "\n",
    "for x in range(rows):\n",
    "    for y in range(columns):\n",
    "        print(grid_sym, end=\"\")\n",
    "    print()"
   ]
  },
  {
   "cell_type": "code",
   "execution_count": null,
   "metadata": {},
   "outputs": [],
   "source": []
  },
  {
   "cell_type": "code",
   "execution_count": 71,
   "metadata": {},
   "outputs": [
    {
     "name": "stdout",
     "output_type": "stream",
     "text": [
      "XOXOX\n",
      "OXOXO\n",
      "XOXOX\n",
      "OXOXO\n",
      "XOXOX\n"
     ]
    }
   ],
   "source": [
    "grid_sym = \"X\"\n",
    "grid_sym2 = \"O\"\n",
    "\n",
    "rows = 5\n",
    "columns = 5\n",
    "\n",
    "for x in range(rows):\n",
    "    for y in range(columns):\n",
    "        if (y % 2 == 0 and x % 2 == 0) or \\\n",
    "        (y % 2 == 1 and x % 2 == 1 ):\n",
    "            print(grid_sym, end=\"\")\n",
    "        else: print(grid_sym2, end=\"\")\n",
    "    print()"
   ]
  },
  {
   "cell_type": "code",
   "execution_count": 122,
   "metadata": {},
   "outputs": [
    {
     "name": "stdout",
     "output_type": "stream",
     "text": [
      "0\t0\t0\t0\t0\t0\t0\t0\t0\t0\t0\t1\t2\t3\t4\t5\t6\t7\t8\t9\t0\t2\t4\t6\t8\t10\t12\t14\t16\t18\t0\t3\t6\t9\t12\t15\t18\t21\t24\t27\t0\t4\t8\t12\t16\t20\t24\t28\t32\t36\t0\t5\t10\t15\t20\t25\t30\t35\t40\t45\t0\t6\t12\t18\t24\t30\t36\t42\t48\t54\t0\t7\t14\t21\t28\t35\t42\t49\t56\t63\t0\t8\t16\t24\t32\t40\t48\t56\t64\t72\t0\t9\t18\t27\t36\t45\t54\t63\t72\t81\tn\n"
     ]
    }
   ],
   "source": [
    "rows = 10\n",
    "columns = 10\n",
    "\n",
    "for x in range (rows):\n",
    "    for y in range (columns,):\n",
    "        print(x * y, end=\"\\t\")\n",
    "print(\"n\")\n",
    "        \n",
    "            "
   ]
  },
  {
   "cell_type": "code",
   "execution_count": null,
   "metadata": {},
   "outputs": [
    {
     "name": "stdout",
     "output_type": "stream",
     "text": [
      "1\t2\t3\t4\t5\t6\t7\t8\t9\t10\t\n",
      "2\t4\t6\t8\t10\t12\t14\t16\t18\t20\t\n",
      "3\t6\t9\t12\t15\t18\t21\t24\t27\t30\t\n",
      "4\t8\t12\t16\t20\t24\t28\t32\t36\t40\t\n",
      "5\t10\t15\t20\t25\t30\t35\t40\t45\t50\t\n",
      "6\t12\t18\t24\t30\t36\t42\t48\t54\t60\t\n",
      "7\t14\t21\t28\t35\t42\t49\t56\t63\t70\t\n",
      "8\t16\t24\t32\t40\t48\t56\t64\t72\t80\t\n",
      "9\t18\t27\t36\t45\t54\t63\t72\t81\t90\t\n",
      "10\t20\t30\t40\t50\t60\t70\t80\t90\t100\t\n"
     ]
    }
   ],
   "source": [
    "num = 10\n",
    "for i in range(1, num+1):\n",
    "    for j in range (1,num +1):\n",
    "        print(i*j,end=\"\\t\")\n",
    "    print(\"\")"
   ]
  },
  {
   "cell_type": "code",
   "execution_count": 123,
   "metadata": {},
   "outputs": [
    {
     "name": "stdout",
     "output_type": "stream",
     "text": [
      "   1\t   2\t   3\t   4\t   5\t   6\t   7\t   8\t   9\t   2\t   4\t   6\t   8\t  10\t  12\t  14\t  16\t  18\t   3\t   6\t   9\t  12\t  15\t  18\t  21\t  24\t  27\t   4\t   8\t  12\t  16\t  20\t  24\t  28\t  32\t  36\t   5\t  10\t  15\t  20\t  25\t  30\t  35\t  40\t  45\t   6\t  12\t  18\t  24\t  30\t  36\t  42\t  48\t  54\t   7\t  14\t  21\t  28\t  35\t  42\t  49\t  56\t  63\t   8\t  16\t  24\t  32\t  40\t  48\t  56\t  64\t  72\t   9\t  18\t  27\t  36\t  45\t  54\t  63\t  72\t  81\t\n",
      "\n"
     ]
    }
   ],
   "source": [
    "for i in range(1, 10) :\n",
    "    for j in range(1, 10):\n",
    "        print(repr(i*j).rjust(4),end=\"\\t\")\n",
    "print()\n",
    "print()"
   ]
  },
  {
   "cell_type": "code",
   "execution_count": 130,
   "metadata": {},
   "outputs": [
    {
     "name": "stdout",
     "output_type": "stream",
     "text": [
      "1\t2\t3\t\n",
      "2\t4\t6\t\n",
      "3\t6\t9\t\n"
     ]
    }
   ],
   "source": [
    "num = int(input(\"please write your number: \"))\n",
    "for i in range(1, num+1):\n",
    "    for j in range (1,num +1):\n",
    "        print(i*j,end=\"\\t\")\n",
    "    print(\"\")\n",
    "    "
   ]
  },
  {
   "cell_type": "code",
   "execution_count": 153,
   "metadata": {},
   "outputs": [
    {
     "name": "stdout",
     "output_type": "stream",
     "text": [
      "*    \n",
      " *   \n",
      "  *  \n",
      "   * \n",
      "    *\n"
     ]
    }
   ],
   "source": [
    "num = int(input(\"please write your number: \"))\n",
    "sign = \"*\"\n",
    "for i in range(1, num+1):\n",
    "    for j in range (num):\n",
    "        if j == i-1:\n",
    "            print(sign, end=\"\")\n",
    "        else: print(\" \", end=\"\")\n",
    "    print()"
   ]
  },
  {
   "cell_type": "code",
   "execution_count": 137,
   "metadata": {},
   "outputs": [
    {
     "name": "stdout",
     "output_type": "stream",
     "text": [
      "XXXXX\n",
      "XXXXX\n",
      "XXXXX\n",
      "XXXXX\n",
      "XXXXX\n"
     ]
    }
   ],
   "source": [
    "grid_sym = \"X\"\n",
    "\n",
    "rows = 5\n",
    "columns = 5\n",
    "\n",
    "for x in range(rows):\n",
    "    for y in range(5):\n",
    "        print(grid_sym, end=\"\")\n",
    "    print()"
   ]
  },
  {
   "cell_type": "code",
   "execution_count": 154,
   "metadata": {},
   "outputs": [
    {
     "name": "stdout",
     "output_type": "stream",
     "text": [
      "*\n",
      "**\n",
      "***\n",
      "****\n",
      "*****\n"
     ]
    }
   ],
   "source": [
    "height = int(input(\"Please enter the height of the triangle: \"))\n",
    "\n",
    "for row in range(height):\n",
    "    for col in range(row + 1):\n",
    "        print(\"*\", end=\"\")\n",
    "    print()"
   ]
  },
  {
   "cell_type": "code",
   "execution_count": 160,
   "metadata": {},
   "outputs": [
    {
     "name": "stdout",
     "output_type": "stream",
     "text": [
      "\n",
      "h\n",
      "e\n",
      "he\n",
      "el\n",
      "ll\n",
      "hel\n",
      "ell\n",
      "llo\n",
      "lo\n",
      "hell\n",
      "ello\n",
      "llo\n",
      "lo\n",
      "o\n"
     ]
    }
   ],
   "source": [
    "word = \"hello\"\n",
    "\n",
    "wordlen = len(word)\n",
    "\n",
    "for i in range(wordlen):\n",
    "    for j in range(i+1):\n",
    "        if ()\n",
    "    \n",
    "        print(word[j:j+i])"
   ]
  },
  {
   "cell_type": "code",
   "execution_count": 161,
   "metadata": {},
   "outputs": [
    {
     "name": "stdout",
     "output_type": "stream",
     "text": [
      "h\n",
      "he\n",
      "hel\n",
      "hell\n",
      "hello\n",
      "e\n",
      "el\n",
      "ell\n",
      "ello\n",
      "l\n",
      "ll\n",
      "llo\n",
      "l\n",
      "lo\n",
      "o\n"
     ]
    }
   ],
   "source": [
    "word = \"hello\"\n",
    "\n",
    "for i in range(len(word)):\n",
    "    for j in range(i, len(word)):\n",
    "        if i == j:\n",
    "            print(word[i], end=\"\")\n",
    "        else:\n",
    "            print(word[i:j+1], end=\"\")\n",
    "        print()"
   ]
  },
  {
   "cell_type": "code",
   "execution_count": 157,
   "metadata": {},
   "outputs": [
    {
     "name": "stdout",
     "output_type": "stream",
     "text": [
      "a\n",
      "b\n",
      "c\n",
      "ab\n",
      "bc\n",
      "abc\n"
     ]
    }
   ],
   "source": [
    "string = \"abc\"\n",
    "\n",
    "for length in range(len(string)):\n",
    "    for index in range(len(string) - length):\n",
    "        print(string[index:index+length+1])"
   ]
  },
  {
   "cell_type": "code",
   "execution_count": 170,
   "metadata": {},
   "outputs": [
    {
     "ename": "KeyboardInterrupt",
     "evalue": "",
     "output_type": "error",
     "traceback": [
      "\u001b[0;31m---------------------------------------------------------------------------\u001b[0m",
      "\u001b[0;31mKeyboardInterrupt\u001b[0m                         Traceback (most recent call last)",
      "Cell \u001b[0;32mIn[170], line 1\u001b[0m\n\u001b[0;32m----> 1\u001b[0m \u001b[39minput\u001b[39m \u001b[39m=\u001b[39m \u001b[39mstr\u001b[39m(\u001b[39minput\u001b[39m(\u001b[39m\"\u001b[39m\u001b[39mPlease enter your words\u001b[39m\u001b[39m\"\u001b[39m))\n\u001b[1;32m      2\u001b[0m inputd \u001b[39m=\u001b[39m {}\n\u001b[1;32m      4\u001b[0m \u001b[39mfor\u001b[39;00m i \u001b[39min\u001b[39;00m \u001b[39mset\u001b[39m(\u001b[39minput\u001b[39m):\n",
      "Cell \u001b[0;32mIn[170], line 1\u001b[0m\n\u001b[0;32m----> 1\u001b[0m \u001b[39minput\u001b[39m \u001b[39m=\u001b[39m \u001b[39mstr\u001b[39m(\u001b[39minput\u001b[39m(\u001b[39m\"\u001b[39m\u001b[39mPlease enter your words\u001b[39m\u001b[39m\"\u001b[39m))\n\u001b[1;32m      2\u001b[0m inputd \u001b[39m=\u001b[39m {}\n\u001b[1;32m      4\u001b[0m \u001b[39mfor\u001b[39;00m i \u001b[39min\u001b[39;00m \u001b[39mset\u001b[39m(\u001b[39minput\u001b[39m):\n",
      "File \u001b[0;32m~/Library/Python/3.11/lib/python/site-packages/debugpy/_vendored/pydevd/_pydevd_bundle/pydevd_frame.py:988\u001b[0m, in \u001b[0;36mPyDBFrame.trace_dispatch\u001b[0;34m(self, frame, event, arg)\u001b[0m\n\u001b[1;32m    986\u001b[0m \u001b[39m# if thread has a suspend flag, we suspend with a busy wait\u001b[39;00m\n\u001b[1;32m    987\u001b[0m \u001b[39mif\u001b[39;00m info\u001b[39m.\u001b[39mpydev_state \u001b[39m==\u001b[39m STATE_SUSPEND:\n\u001b[0;32m--> 988\u001b[0m     \u001b[39mself\u001b[39;49m\u001b[39m.\u001b[39;49mdo_wait_suspend(thread, frame, event, arg)\n\u001b[1;32m    989\u001b[0m     \u001b[39mreturn\u001b[39;00m \u001b[39mself\u001b[39m\u001b[39m.\u001b[39mtrace_dispatch\n\u001b[1;32m    990\u001b[0m \u001b[39melse\u001b[39;00m:\n",
      "File \u001b[0;32m~/Library/Python/3.11/lib/python/site-packages/debugpy/_vendored/pydevd/_pydevd_bundle/pydevd_frame.py:165\u001b[0m, in \u001b[0;36mPyDBFrame.do_wait_suspend\u001b[0;34m(self, *args, **kwargs)\u001b[0m\n\u001b[1;32m    164\u001b[0m \u001b[39mdef\u001b[39;00m \u001b[39mdo_wait_suspend\u001b[39m(\u001b[39mself\u001b[39m, \u001b[39m*\u001b[39margs, \u001b[39m*\u001b[39m\u001b[39m*\u001b[39mkwargs):\n\u001b[0;32m--> 165\u001b[0m     \u001b[39mself\u001b[39;49m\u001b[39m.\u001b[39;49m_args[\u001b[39m0\u001b[39;49m]\u001b[39m.\u001b[39;49mdo_wait_suspend(\u001b[39m*\u001b[39;49margs, \u001b[39m*\u001b[39;49m\u001b[39m*\u001b[39;49mkwargs)\n",
      "File \u001b[0;32m~/Library/Python/3.11/lib/python/site-packages/debugpy/_vendored/pydevd/pydevd.py:2070\u001b[0m, in \u001b[0;36mPyDB.do_wait_suspend\u001b[0;34m(self, thread, frame, event, arg, exception_type)\u001b[0m\n\u001b[1;32m   2067\u001b[0m             from_this_thread\u001b[39m.\u001b[39mappend(frame_custom_thread_id)\n\u001b[1;32m   2069\u001b[0m     \u001b[39mwith\u001b[39;00m \u001b[39mself\u001b[39m\u001b[39m.\u001b[39m_threads_suspended_single_notification\u001b[39m.\u001b[39mnotify_thread_suspended(thread_id, thread, stop_reason):\n\u001b[0;32m-> 2070\u001b[0m         keep_suspended \u001b[39m=\u001b[39m \u001b[39mself\u001b[39;49m\u001b[39m.\u001b[39;49m_do_wait_suspend(thread, frame, event, arg, suspend_type, from_this_thread, frames_tracker)\n\u001b[1;32m   2072\u001b[0m frames_list \u001b[39m=\u001b[39m \u001b[39mNone\u001b[39;00m\n\u001b[1;32m   2074\u001b[0m \u001b[39mif\u001b[39;00m keep_suspended:\n\u001b[1;32m   2075\u001b[0m     \u001b[39m# This means that we should pause again after a set next statement.\u001b[39;00m\n",
      "File \u001b[0;32m~/Library/Python/3.11/lib/python/site-packages/debugpy/_vendored/pydevd/pydevd.py:2106\u001b[0m, in \u001b[0;36mPyDB._do_wait_suspend\u001b[0;34m(self, thread, frame, event, arg, suspend_type, from_this_thread, frames_tracker)\u001b[0m\n\u001b[1;32m   2103\u001b[0m         \u001b[39mself\u001b[39m\u001b[39m.\u001b[39m_call_input_hook()\n\u001b[1;32m   2105\u001b[0m     \u001b[39mself\u001b[39m\u001b[39m.\u001b[39mprocess_internal_commands()\n\u001b[0;32m-> 2106\u001b[0m     time\u001b[39m.\u001b[39msleep(\u001b[39m0.01\u001b[39m)\n\u001b[1;32m   2108\u001b[0m \u001b[39mself\u001b[39m\u001b[39m.\u001b[39mcancel_async_evaluation(get_current_thread_id(thread), \u001b[39mstr\u001b[39m(\u001b[39mid\u001b[39m(frame)))\n\u001b[1;32m   2110\u001b[0m \u001b[39m# process any stepping instructions\u001b[39;00m\n",
      "\u001b[0;31mKeyboardInterrupt\u001b[0m: "
     ]
    }
   ],
   "source": [
    "input = str(input(\"Please enter your words\"))\n",
    "inputd = {}\n",
    "\n",
    "for i in set(input):\n",
    "    if i in inputd:\n",
    "        inputd[i] += 1\n",
    "    else:\n",
    "        inputd[i] =1\n",
    "print(inputd)"
   ]
  },
  {
   "cell_type": "code",
   "execution_count": 164,
   "metadata": {},
   "outputs": [
    {
     "name": "stdout",
     "output_type": "stream",
     "text": [
      "{'T': 1, 'h': 2, 'i': 2, 's': 3, ' ': 5, 't': 4, 'e': 3, 'x': 1, 'o': 1, 'a': 2, 'n': 1, 'l': 1, 'y': 1}"
     ]
    }
   ],
   "source": [
    "text = \"This is the text to analyse\"\n",
    "dict = {}\n",
    "for char in text:\n",
    "    if char in dict:\n",
    "        dict[char] += 1\n",
    "    else:\n",
    "        dict[char] = 1\n",
    "print(dict, end=\"\")"
   ]
  },
  {
   "cell_type": "code",
   "execution_count": 187,
   "metadata": {},
   "outputs": [
    {
     "name": "stdout",
     "output_type": "stream",
     "text": [
      "Biggest number is :9\n",
      "Smallest number is :2\n"
     ]
    }
   ],
   "source": [
    "numlist = [9, 2, 3, 4]\n",
    "\n",
    "max_num = 0\n",
    "min_num = numlist[0]\n",
    "\n",
    "for i in numlist:\n",
    "    if i > max_num:\n",
    "        max_num = i\n",
    "print(\"Biggest number is : \" + str(max_num))\n",
    "\n",
    "\n",
    "for j in numlist:\n",
    "    if j <min_num:\n",
    "        min_num = j\n",
    "print(\"Smallest number is : \" + str(min_num))\n",
    "\n"
   ]
  },
  {
   "cell_type": "code",
   "execution_count": 185,
   "metadata": {},
   "outputs": [
    {
     "name": "stdout",
     "output_type": "stream",
     "text": [
      "9\n",
      "2\n",
      "2\n",
      "2\n"
     ]
    }
   ],
   "source": [
    "numlist = [9, 2, 3, 4]\n",
    "min_num = numlist[0]\n",
    "\n",
    "for j in numlist:\n",
    "    if j <min_num:\n",
    "        min_num = j\n",
    "    print(min_num)\n",
    "\n"
   ]
  }
 ],
 "metadata": {
  "kernelspec": {
   "display_name": "Python 3",
   "language": "python",
   "name": "python3"
  },
  "language_info": {
   "codemirror_mode": {
    "name": "ipython",
    "version": 3
   },
   "file_extension": ".py",
   "mimetype": "text/x-python",
   "name": "python",
   "nbconvert_exporter": "python",
   "pygments_lexer": "ipython3",
   "version": "3.11.3"
  },
  "orig_nbformat": 4
 },
 "nbformat": 4,
 "nbformat_minor": 2
}
